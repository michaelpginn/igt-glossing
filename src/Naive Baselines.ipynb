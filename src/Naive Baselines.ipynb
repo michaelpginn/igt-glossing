{
 "cells": [
  {
   "cell_type": "code",
   "execution_count": 2,
   "metadata": {
    "ExecuteTime": {
     "end_time": "2023-08-28T01:13:33.809684Z",
     "start_time": "2023-08-28T01:13:33.677365Z"
    },
    "collapsed": false,
    "jupyter": {
     "outputs_hidden": false
    },
    "tags": []
   },
   "outputs": [
    {
     "data": {
      "application/vnd.jupyter.widget-view+json": {
       "model_id": "7a9af6e23f5c4532a07ae3eac18b6c78",
       "version_major": 2,
       "version_minor": 0
      },
      "text/plain": [
       "Map:   0%|          | 0/5049 [00:00<?, ? examples/s]"
      ]
     },
     "metadata": {},
     "output_type": "display_data"
    },
    {
     "data": {
      "application/vnd.jupyter.widget-view+json": {
       "model_id": "6e425ad04dba410b9dd19b910014fcc2",
       "version_major": 2,
       "version_minor": 0
      },
      "text/plain": [
       "Map:   0%|          | 0/2128 [00:00<?, ? examples/s]"
      ]
     },
     "metadata": {},
     "output_type": "display_data"
    },
    {
     "data": {
      "application/vnd.jupyter.widget-view+json": {
       "model_id": "5ef71f60f57444a2a616499be366fc03",
       "version_major": 2,
       "version_minor": 0
      },
      "text/plain": [
       "Map:   0%|          | 0/2128 [00:00<?, ? examples/s]"
      ]
     },
     "metadata": {},
     "output_type": "display_data"
    },
    {
     "data": {
      "application/vnd.jupyter.widget-view+json": {
       "model_id": "4333c75e32ae4f6f86b3f0d262a88f83",
       "version_major": 2,
       "version_minor": 0
      },
      "text/plain": [
       "Map:   0%|          | 0/2128 [00:00<?, ? examples/s]"
      ]
     },
     "metadata": {},
     "output_type": "display_data"
    }
   ],
   "source": [
    "import random\n",
    "\n",
    "from data_handling import load_data_file, create_vocab, prepare_dataset, create_gloss_vocab\n",
    "from uspanteko_morphology import morphology\n",
    "from tokenizer import WordLevelTokenizer\n",
    "from datasets import DatasetDict\n",
    "\n",
    "train_data = load_data_file(\"../data/GenBench/train.txt\")\n",
    "eval_ood = load_data_file(\"../data/GenBench/eval_ood.txt\")\n",
    "eval_id = load_data_file(\"../data/GenBench/eval_id.txt\")\n",
    "test_ood = load_data_file(\"../data/GenBench/test_ood.txt\")\n",
    "\n",
    "MODEL_INPUT_LENGTH = 64\n",
    "device = 'mps'\n",
    "\n",
    "train_vocab = create_vocab([line.morphemes() for line in train_data], threshold=1)\n",
    "tokenizer = WordLevelTokenizer(vocab=train_vocab, model_max_length=MODEL_INPUT_LENGTH)\n",
    "\n",
    "glosses = create_gloss_vocab(morphology)\n",
    "\n",
    "dataset = DatasetDict()\n",
    "\n",
    "dataset['train'] = prepare_dataset(data=train_data, tokenizer=tokenizer, labels=glosses, device=device)\n",
    "dataset['eval_OOD'] = prepare_dataset(data=eval_ood, tokenizer=tokenizer, labels=glosses, device=device)\n",
    "dataset['eval_ID'] = prepare_dataset(data=eval_id, tokenizer=tokenizer, labels=glosses, device=device)\n",
    "dataset['test_OOD'] = prepare_dataset(data=test_ood, tokenizer=tokenizer, labels=glosses, device=device)"
   ]
  },
  {
   "cell_type": "code",
   "execution_count": 10,
   "metadata": {
    "tags": []
   },
   "outputs": [
    {
     "data": {
      "text/plain": [
       "defaultdict(<function __main__.learn_glosses.<locals>.<lambda>.<locals>.<lambda>()>,\n",
       "            {'[SEP]': 15542})"
      ]
     },
     "execution_count": 10,
     "metadata": {},
     "output_type": "execute_result"
    }
   ],
   "source": [
    "from collections import defaultdict\n",
    "\n",
    "def learn_glosses(dataset):\n",
    "    # For each morpheme, keep a dictionary of gloss-counts\n",
    "    morpheme_glosses = defaultdict(lambda: defaultdict(lambda: 0))\n",
    "    for row in dataset:\n",
    "        for morpheme, gloss in zip(row['morphemes'], row['glosses']):\n",
    "            morpheme_glosses[morpheme][gloss] += 1\n",
    "    return morpheme_glosses\n",
    "\n",
    "learn_glosses(dataset['train'])['[SEP]']"
   ]
  },
  {
   "cell_type": "code",
   "execution_count": 19,
   "metadata": {
    "tags": []
   },
   "outputs": [
    {
     "data": {
      "text/plain": [
       "['E1S', '[SEP]', 'VOC', '[SEP]', 'E1S', '[SEP]', 'VOC']"
      ]
     },
     "execution_count": 19,
     "metadata": {},
     "output_type": "execute_result"
    }
   ],
   "source": [
    "import random \n",
    "\n",
    "def gloss_with_top_gloss(gloss_dict):\n",
    "    return max(gloss_dict, key=gloss_dict.get)\n",
    "\n",
    "def gloss_with_random_gloss(gloss_dict):\n",
    "    return random.choice(list(gloss_dict.keys()))\n",
    "\n",
    "def make_preds(train_dataset, prediction_dataset, pred_strategy):\n",
    "    morpheme_glosses = learn_glosses(train_dataset)\n",
    "    \n",
    "    predictions = []\n",
    "    for row in prediction_dataset:\n",
    "        line_predictions = []\n",
    "        for morpheme in row['morphemes']:\n",
    "            if morpheme not in morpheme_glosses:\n",
    "                predicted_gloss = \"???\"\n",
    "            else:\n",
    "                predicted_gloss = pred_strategy(morpheme_glosses[morpheme])\n",
    "            line_predictions.append(predicted_gloss)\n",
    "        predictions.append(line_predictions)\n",
    "    return predictions\n",
    "\n",
    "make_preds(dataset['train'], dataset['eval_ID'], gloss_with_random_gloss)[0]"
   ]
  },
  {
   "cell_type": "code",
   "execution_count": 23,
   "metadata": {
    "tags": []
   },
   "outputs": [
    {
     "name": "stdout",
     "output_type": "stream",
     "text": [
      "eval_ID / random: 0.4436551501453019\n",
      "eval_ID / top: 0.8496932515337423\n",
      "eval_OOD / random: 0.40628166160081053\n",
      "eval_OOD / top: 0.7416413373860182\n",
      "test_OOD / random: 0.4020343384792959\n",
      "test_OOD / top: 0.7485211369210792\n"
     ]
    }
   ],
   "source": [
    "from eval import eval_accuracy\n",
    "\n",
    "def eval_data(dataset):\n",
    "    for dataset_id in ['eval_ID', 'eval_OOD', 'test_OOD']:\n",
    "        eval_labels = [row['glosses'] for row in dataset[dataset_id]]\n",
    "        random_preds = make_preds(dataset['train'], dataset[dataset_id], gloss_with_random_gloss)\n",
    "        random_perf = eval_accuracy(random_preds, eval_labels)\n",
    "        print(f\"{dataset_id} / random: {random_perf['accuracy']}\")\n",
    "        \n",
    "        top_preds = make_preds(dataset['train'], dataset[dataset_id], gloss_with_top_gloss)\n",
    "        top_perf = eval_accuracy(top_preds, eval_labels)\n",
    "        print(f\"{dataset_id} / top: {top_perf['accuracy']}\")\n",
    "    \n",
    "\n",
    "eval_data(dataset)"
   ]
  },
  {
   "cell_type": "code",
   "execution_count": null,
   "metadata": {},
   "outputs": [],
   "source": []
  }
 ],
 "metadata": {
  "kernelspec": {
   "display_name": "Python 3 (ipykernel)",
   "language": "python",
   "name": "python3"
  },
  "language_info": {
   "codemirror_mode": {
    "name": "ipython",
    "version": 3
   },
   "file_extension": ".py",
   "mimetype": "text/x-python",
   "name": "python",
   "nbconvert_exporter": "python",
   "pygments_lexer": "ipython3",
   "version": "3.10.6"
  }
 },
 "nbformat": 4,
 "nbformat_minor": 4
}
