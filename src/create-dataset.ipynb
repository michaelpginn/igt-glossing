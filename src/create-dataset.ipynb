{
 "cells": [
  {
   "cell_type": "code",
   "execution_count": 16,
   "outputs": [],
   "source": [
    "import datasets\n",
    "import os\n",
    "\n",
    "\n",
    "def load_data_file(path: str):\n",
    "    \"\"\"Loads a file containing IGT data into a list of entries.\"\"\"\n",
    "    all_data = []\n",
    "\n",
    "    # If we have a directory, recursively load all files and concat together\n",
    "    if os.path.isdir(path):\n",
    "        for file in os.listdir(path):\n",
    "            if file.endswith(\".txt\"):\n",
    "                all_data.extend(load_data_file(os.path.join(path, file)))\n",
    "        return all_data\n",
    "\n",
    "    # If we have one file, read in line by line\n",
    "    with open(path, 'r') as file:\n",
    "        current_entry = {}\n",
    "\n",
    "        for line in file:\n",
    "            # Determine the type of line\n",
    "            # If we see a type that has already been filled for the current entry, something is wrong\n",
    "            line_prefix = line[:2]\n",
    "            if line_prefix == '\\\\t' and 'transcription' not in current_entry:\n",
    "                current_entry['transcription'] = line[3:].strip()\n",
    "            elif line_prefix == '\\\\m' and 'segmentation' not in current_entry:\n",
    "                current_entry['segmentation'] = line[3:].strip()\n",
    "            elif line_prefix == '\\\\p' and 'pos_glosses' not in current_entry:\n",
    "                if len(line[3:].strip()) > 0:\n",
    "                    current_entry['pos_glosses'] = line[3:].strip()\n",
    "            elif line_prefix == '\\\\g' and 'glosses' not in current_entry:\n",
    "                if len(line[3:].strip()) > 0:\n",
    "                    current_entry['glosses'] = line[3:].strip()\n",
    "            elif line_prefix == '\\\\l' and 'translation' not in current_entry:\n",
    "                current_entry['translation'] = line[3:].strip()\n",
    "                # Once we have the translation, we've reached the end and can save this entry\n",
    "                all_data.append(current_entry)\n",
    "                current_entry = {}\n",
    "            elif line.strip() != \"\":\n",
    "                # Something went wrong\n",
    "                continue\n",
    "            else:\n",
    "                if not current_entry == {}:\n",
    "                    all_data.append(current_entry)\n",
    "                    current_entry = {}\n",
    "        # Might have one extra line at the end\n",
    "        if not current_entry == {}:\n",
    "            all_data.append(current_entry)\n",
    "    return datasets.Dataset.from_list(all_data)\n"
   ],
   "metadata": {
    "collapsed": false,
    "ExecuteTime": {
     "end_time": "2024-01-23T20:45:12.227125Z",
     "start_time": "2024-01-23T20:45:12.224619Z"
    }
   }
  },
  {
   "cell_type": "code",
   "execution_count": 27,
   "outputs": [
    {
     "data": {
      "text/plain": "DatasetDict({\n    train: Dataset({\n        features: ['transcription', 'segmentation', 'pos_glosses', 'glosses', 'translation'],\n        num_rows: 9774\n    })\n    eval: Dataset({\n        features: ['transcription', 'segmentation', 'pos_glosses', 'glosses', 'translation'],\n        num_rows: 232\n    })\n    test: Dataset({\n        features: ['transcription', 'segmentation', 'pos_glosses', 'glosses', 'translation'],\n        num_rows: 633\n    })\n})"
     },
     "execution_count": 27,
     "metadata": {},
     "output_type": "execute_result"
    }
   ],
   "source": [
    "def cleanup_data(dataset: datasets.Dataset):\n",
    "    df = dataset.to_pandas()\n",
    "\n",
    "    df['transcription'] = df['transcription'] \\\n",
    "        .str.replace(r\"(\\w)\\?\", r\"\\1 ?\", regex=True) \\\n",
    "        .str.replace(r\"(\\w)\\.\", r\"\\1 .\", regex=True) \\\n",
    "        .str.replace(r\"(\\w)\\!\", r\"\\1 !\", regex=True) \\\n",
    "        .str.replace(r\"(\\w)\\,\", r\"\\1 ,\", regex=True) \\\n",
    "        .str.replace(\"\\-(\\s|$)\", \" \", regex=True)\n",
    "\n",
    "    df['segmentation'] = df['segmentation'] \\\n",
    "        .str.replace(r\"(\\w)\\?\", r\"\\1 ?\", regex=True) \\\n",
    "        .str.replace(r\"(\\w)\\.\", r\"\\1 .\", regex=True) \\\n",
    "        .str.replace(r\"(\\w)\\!\", r\"\\1 !\", regex=True) \\\n",
    "        .str.replace(r\"(\\w)\\,\", r\"\\1 ,\", regex=True) \\\n",
    "        .str.replace(\"\\-(\\s|$)\", \" \", regex=True)\n",
    "\n",
    "    df['glosses'] = df['glosses'] \\\n",
    "        .str.replace(\"\\-(\\s|$)\", \" \", regex=True) \\\n",
    "        .str.replace(r\"(\\w)\\.(\\s|$)\", r\"\\1 . \", regex=True) \\\n",
    "        .str.replace(r\"(\\w)\\!(\\s|$)\", r\"\\1 ! \", regex=True) \\\n",
    "        .str.replace(r\"(\\w)\\?(\\s|$)\", r\"\\1 ? \", regex=True)\n",
    "\n",
    "    df['pos_glosses'] = df['pos_glosses'] \\\n",
    "        .str.replace(\"\\-(\\s|$)\", \" \", regex=True) \\\n",
    "        .str.replace(r\"(\\w)\\.(\\s|$)\", r\"\\1 . \", regex=True) \\\n",
    "        .str.replace(r\"(\\w)\\!(\\s|$)\", r\"\\1 ! \", regex=True) \\\n",
    "        .str.replace(r\"(\\w)\\?(\\s|$)\", r\"\\1 ? \", regex=True)\n",
    "\n",
    "    return datasets.Dataset.from_pandas(df)\n",
    "\n",
    "\n",
    "splits = datasets.DatasetDict({\n",
    "    'train': cleanup_data(load_data_file('../data/usp-train-track2-uncovered')),\n",
    "    'eval': cleanup_data(load_data_file('../data/usp-dev-track2-uncovered')),\n",
    "    'test': cleanup_data(load_data_file('../data/usp-test-track2-uncovered'))\n",
    "})\n",
    "\n",
    "splits"
   ],
   "metadata": {
    "collapsed": false,
    "ExecuteTime": {
     "end_time": "2024-01-23T23:36:30.862922Z",
     "start_time": "2024-01-23T23:36:30.597159Z"
    }
   }
  },
  {
   "cell_type": "code",
   "execution_count": 29,
   "outputs": [
    {
     "data": {
      "text/plain": "Uploading the dataset shards:   0%|          | 0/1 [00:00<?, ?it/s]",
      "application/vnd.jupyter.widget-view+json": {
       "version_major": 2,
       "version_minor": 0,
       "model_id": "9111b6aa99b746d6988ded89c1eb70b4"
      }
     },
     "metadata": {},
     "output_type": "display_data"
    },
    {
     "data": {
      "text/plain": "Creating parquet from Arrow format:   0%|          | 0/10 [00:00<?, ?ba/s]",
      "application/vnd.jupyter.widget-view+json": {
       "version_major": 2,
       "version_minor": 0,
       "model_id": "4f2fb0f7ba454ceb8f08e08910800646"
      }
     },
     "metadata": {},
     "output_type": "display_data"
    },
    {
     "data": {
      "text/plain": "Uploading the dataset shards:   0%|          | 0/1 [00:00<?, ?it/s]",
      "application/vnd.jupyter.widget-view+json": {
       "version_major": 2,
       "version_minor": 0,
       "model_id": "eb3c7318502d4db98fdfbc20d67a9265"
      }
     },
     "metadata": {},
     "output_type": "display_data"
    },
    {
     "data": {
      "text/plain": "Creating parquet from Arrow format:   0%|          | 0/1 [00:00<?, ?ba/s]",
      "application/vnd.jupyter.widget-view+json": {
       "version_major": 2,
       "version_minor": 0,
       "model_id": "85ffa943fd3f4c7cab4cf4acf861a508"
      }
     },
     "metadata": {},
     "output_type": "display_data"
    },
    {
     "data": {
      "text/plain": "Uploading the dataset shards:   0%|          | 0/1 [00:00<?, ?it/s]",
      "application/vnd.jupyter.widget-view+json": {
       "version_major": 2,
       "version_minor": 0,
       "model_id": "26108d84ff934100a8eab935a0a6de5f"
      }
     },
     "metadata": {},
     "output_type": "display_data"
    },
    {
     "data": {
      "text/plain": "Creating parquet from Arrow format:   0%|          | 0/1 [00:00<?, ?ba/s]",
      "application/vnd.jupyter.widget-view+json": {
       "version_major": 2,
       "version_minor": 0,
       "model_id": "6c391893981644a5a6d7011cb5282eac"
      }
     },
     "metadata": {},
     "output_type": "display_data"
    }
   ],
   "source": [
    "splits.push_to_hub('lecslab/usp-igt')"
   ],
   "metadata": {
    "collapsed": false,
    "ExecuteTime": {
     "end_time": "2024-01-23T23:38:08.453714Z",
     "start_time": "2024-01-23T23:37:53.720488Z"
    }
   }
  },
  {
   "cell_type": "code",
   "execution_count": null,
   "outputs": [],
   "source": [],
   "metadata": {
    "collapsed": false
   }
  }
 ],
 "metadata": {
  "kernelspec": {
   "display_name": "Python 3",
   "language": "python",
   "name": "python3"
  },
  "language_info": {
   "codemirror_mode": {
    "name": "ipython",
    "version": 2
   },
   "file_extension": ".py",
   "mimetype": "text/x-python",
   "name": "python",
   "nbconvert_exporter": "python",
   "pygments_lexer": "ipython2",
   "version": "2.7.6"
  }
 },
 "nbformat": 4,
 "nbformat_minor": 0
}
