{
 "cells": [
  {
   "cell_type": "code",
   "execution_count": 46,
   "outputs": [
    {
     "name": "stdout",
     "output_type": "stream",
     "text": [
      "Loaded 9487 train lines and 1946 eval lines\n"
     ]
    }
   ],
   "source": [
    "\"from data import load_data_file, create_vocab\n",
    "\"\n",
    "train_data = load_data_file(\"../data/GenBench/story\")\n",
    "eval_data = load_data_file(\"../data/GenBench/nonstory\")\n",
    "\n",
    "print(f\"Loaded {len(train_data)} train lines and {len(eval_data)} eval lines\")"
   ],
   "metadata": {
    "collapsed": false,
    "ExecuteTime": {
     "end_time": "2023-08-23T18:59:40.886444Z",
     "start_time": "2023-08-23T18:59:40.854542Z"
    }
   }
  },
  {
   "cell_type": "code",
   "execution_count": 47,
   "outputs": [],
   "source": [
    "from tokenizer import WordLevelTokenizer\n",
    "\n",
    "train_vocab = create_vocab([line.morphemes() for line in train_data], threshold=1)\n",
    "tokenizer = WordLevelTokenizer(vocab=train_vocab, model_max_length=64)"
   ],
   "metadata": {
    "collapsed": false,
    "ExecuteTime": {
     "end_time": "2023-08-23T19:00:13.609267Z",
     "start_time": "2023-08-23T19:00:13.543426Z"
    }
   }
  },
  {
   "cell_type": "code",
   "execution_count": 48,
   "outputs": [
    {
     "name": "stdout",
     "output_type": "stream",
     "text": [
      "339 unknown token types in eval set out of 1324 token types in eval\n",
      "597 unknown tokens in eval data out of 12363 total tokens (0.04828925018199466)\n"
     ]
    }
   ],
   "source": [
    "eval_vocab = set([morpheme for line in eval_data for morpheme in line.morphemes() if morpheme != \"[SEP]\"])\n",
    "unknown_eval_types = len([morpheme for morpheme in eval_vocab if morpheme not in train_vocab])\n",
    "print(f\"{unknown_eval_types} unknown token types in eval set out of {len(eval_vocab)} token types in eval\")\n",
    "\n",
    "eval_tokens = [morpheme for line in eval_data for morpheme in line.morphemes() if morpheme != \"[SEP]\"]\n",
    "unknown_tokens = len([token for token in eval_tokens if token not in train_vocab])\n",
    "print(\n",
    "    f\"{unknown_tokens} unknown tokens in eval data out of {len(eval_tokens)} total tokens ({unknown_tokens / len(eval_tokens)})\")"
   ],
   "metadata": {
    "collapsed": false,
    "ExecuteTime": {
     "end_time": "2023-08-23T19:00:15.224330Z",
     "start_time": "2023-08-23T19:00:14.978147Z"
    }
   }
  },
  {
   "cell_type": "code",
   "execution_count": 22,
   "outputs": [
    {
     "data": {
      "text/plain": "  0%|          | 0/5843 [00:00<?, ?ex/s]",
      "application/vnd.jupyter.widget-view+json": {
       "version_major": 2,
       "version_minor": 0,
       "model_id": "40f55a384f1c44c8b140277fc3e9db44"
      }
     },
     "metadata": {},
     "output_type": "display_data"
    },
    {
     "data": {
      "text/plain": "  0%|          | 0/5843 [00:00<?, ?ex/s]",
      "application/vnd.jupyter.widget-view+json": {
       "version_major": 2,
       "version_minor": 0,
       "model_id": "a928f3b2964241d5892a939343433b04"
      }
     },
     "metadata": {},
     "output_type": "display_data"
    }
   ],
   "source": [
    "from data import prepare_dataset, create_gloss_vocab\n",
    "from uspanteko_morphology import morphology as morphology_tree\n",
    "\n",
    "glosses = create_gloss_vocab(morphology_tree)\n",
    "train = prepare_dataset(data=train_data, tokenizer=tokenizer, labels=glosses, device=\"cpu\")\n",
    "eval = prepare_dataset(data=train_data, tokenizer=tokenizer, labels=glosses, device=\"cpu\")"
   ],
   "metadata": {
    "collapsed": false,
    "ExecuteTime": {
     "end_time": "2023-08-23T18:49:03.097861Z",
     "start_time": "2023-08-23T18:49:00.911866Z"
    }
   }
  },
  {
   "cell_type": "code",
   "execution_count": 43,
   "outputs": [
    {
     "name": "stdout",
     "output_type": "stream",
     "text": [
      "Split randomly into 5590 train points and 5843 eval points\n"
     ]
    }
   ],
   "source": [
    "import random\n",
    "\n",
    "all_data = train_data + eval_data\n",
    "random_split_train = random.sample(all_data, len(eval_data))\n",
    "random_split_eval = [line for line in all_data if line not in random_split_train]\n",
    "print(f\"Split randomly into {len(random_split_train)} train points and {len(random_split_eval)} eval points\")"
   ],
   "metadata": {
    "collapsed": false,
    "ExecuteTime": {
     "end_time": "2023-08-23T18:57:28.918923Z",
     "start_time": "2023-08-23T18:57:28.494809Z"
    }
   }
  },
  {
   "cell_type": "code",
   "execution_count": 44,
   "outputs": [
    {
     "data": {
      "text/plain": "5843"
     },
     "execution_count": 44,
     "metadata": {},
     "output_type": "execute_result"
    }
   ],
   "source": [],
   "metadata": {
    "collapsed": false,
    "ExecuteTime": {
     "end_time": "2023-08-23T18:57:36.085657Z",
     "start_time": "2023-08-23T18:57:36.028312Z"
    }
   }
  },
  {
   "cell_type": "markdown",
   "source": [],
   "metadata": {
    "collapsed": false
   }
  }
 ],
 "metadata": {
  "kernelspec": {
   "display_name": "Python 3",
   "language": "python",
   "name": "python3"
  },
  "language_info": {
   "codemirror_mode": {
    "name": "ipython",
    "version": 2
   },
   "file_extension": ".py",
   "mimetype": "text/x-python",
   "name": "python",
   "nbconvert_exporter": "python",
   "pygments_lexer": "ipython2",
   "version": "2.7.6"
  }
 },
 "nbformat": 4,
 "nbformat_minor": 0
}
