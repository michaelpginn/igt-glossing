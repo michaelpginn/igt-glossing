{
 "cells": [
  {
   "cell_type": "code",
   "execution_count": 3,
   "outputs": [],
   "source": [
    "from data import load_data_file\n",
    "\n",
    "train_data = load_data_file(\"../data/GenBench/nonstory\")"
   ],
   "metadata": {
    "collapsed": false,
    "ExecuteTime": {
     "end_time": "2023-08-15T23:20:40.880778Z",
     "start_time": "2023-08-15T23:20:40.853916Z"
    }
   }
  },
  {
   "cell_type": "code",
   "execution_count": 4,
   "outputs": [
    {
     "data": {
      "text/plain": "[]"
     },
     "execution_count": 4,
     "metadata": {},
     "output_type": "execute_result"
    }
   ],
   "source": [
    "from data import create_gloss_vocab\n",
    "from uspanteko_morphology import morphology\n",
    "\n",
    "glosses = create_gloss_vocab(morphology)\n",
    "\n",
    "[gloss for gloss in set([gloss for row in train_data for gloss in row.gloss_list(segmented=True)]) if\n",
    " gloss not in glosses]"
   ],
   "metadata": {
    "collapsed": false,
    "ExecuteTime": {
     "end_time": "2023-08-15T23:20:41.618266Z",
     "start_time": "2023-08-15T23:20:41.579581Z"
    }
   }
  },
  {
   "cell_type": "code",
   "execution_count": 12,
   "outputs": [
    {
     "data": {
      "text/plain": "['???',\n '[SEP]',\n 'A1P',\n 'A2P',\n 'A1S',\n 'A2S',\n 'E1',\n 'E2',\n 'E3',\n 'E1P',\n 'E2P',\n 'E3P',\n 'E1S',\n 'E2S',\n 'E3S',\n 'AFE',\n 'ITR',\n 'TRN',\n 'AP',\n 'APLI',\n 'CAU',\n 'MOV',\n 'PAS',\n 'REC',\n 'RFX',\n 'COM',\n 'INC',\n 'PRG',\n 'COND',\n 'IMP',\n 'INT',\n 'TAM',\n 'DIR',\n 'PP',\n 'SC',\n 'SV',\n 'EXS',\n 'POS',\n 'VI',\n 'VT',\n 'ADJ',\n 'NOM',\n 'PRON',\n 'S',\n 'SAB',\n 'TOP',\n 'VOC',\n 'CLAS',\n 'DIM',\n 'GNT',\n 'NUM',\n 'AGT',\n 'INS',\n 'PL',\n 'ADV',\n 'AFI',\n 'NEG',\n 'PART',\n 'SREL',\n 'ART',\n 'DEM',\n 'CONJ',\n 'ENF',\n 'ITS',\n 'MED',\n 'PREP']"
     },
     "execution_count": 12,
     "metadata": {},
     "output_type": "execute_result"
    }
   ],
   "source": [
    "glosses"
   ],
   "metadata": {
    "collapsed": false,
    "ExecuteTime": {
     "end_time": "2023-08-15T23:17:22.819580Z",
     "start_time": "2023-08-15T23:17:22.787971Z"
    }
   }
  },
  {
   "cell_type": "code",
   "execution_count": null,
   "outputs": [],
   "source": [],
   "metadata": {
    "collapsed": false
   }
  }
 ],
 "metadata": {
  "kernelspec": {
   "display_name": "Python 3",
   "language": "python",
   "name": "python3"
  },
  "language_info": {
   "codemirror_mode": {
    "name": "ipython",
    "version": 2
   },
   "file_extension": ".py",
   "mimetype": "text/x-python",
   "name": "python",
   "nbconvert_exporter": "python",
   "pygments_lexer": "ipython2",
   "version": "2.7.6"
  }
 },
 "nbformat": 4,
 "nbformat_minor": 0
}
