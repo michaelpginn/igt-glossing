{
 "cells": [
  {
   "cell_type": "code",
   "execution_count": 122,
   "outputs": [
    {
     "name": "stdout",
     "output_type": "stream",
     "text": [
      "Loaded 10099 train lines and 1334 eval lines\n"
     ]
    }
   ],
   "source": [
    "from data import load_data_file, create_vocab\n",
    "\n",
    "train_data = load_data_file(\"../data/GenBench/story_advice_personal\")\n",
    "eval_data = load_data_file(\"../data/GenBench/history\")\n",
    "\n",
    "print(f\"Loaded {len(train_data)} train lines and {len(eval_data)} eval lines\")"
   ],
   "metadata": {
    "collapsed": false,
    "ExecuteTime": {
     "end_time": "2023-08-25T04:50:05.932779Z",
     "start_time": "2023-08-25T04:50:05.859162Z"
    }
   }
  },
  {
   "cell_type": "code",
   "execution_count": 146,
   "outputs": [
    {
     "data": {
      "text/plain": "  0%|          | 0/10099 [00:00<?, ?ex/s]",
      "application/vnd.jupyter.widget-view+json": {
       "version_major": 2,
       "version_minor": 0,
       "model_id": "9c4149c0fa024928bf3a739c653cc61b"
      }
     },
     "metadata": {},
     "output_type": "display_data"
    },
    {
     "data": {
      "text/plain": "  0%|          | 0/1334 [00:00<?, ?ex/s]",
      "application/vnd.jupyter.widget-view+json": {
       "version_major": 2,
       "version_minor": 0,
       "model_id": "276065757c4d452f9b4ca6e064ade8ae"
      }
     },
     "metadata": {},
     "output_type": "display_data"
    }
   ],
   "source": [
    "from tokenizer import WordLevelTokenizer\n",
    "from data import create_gloss_vocab, prepare_dataset_mlm\n",
    "from datasets import DatasetDict\n",
    "from uspanteko_morphology import morphology\n",
    "\n",
    "MODEL_INPUT_LENGTH = 64\n",
    "device = \"cpu\"\n",
    "\n",
    "glosses = create_gloss_vocab(morphology)\n",
    "tokenizer = WordLevelTokenizer(vocab=glosses, model_max_length=MODEL_INPUT_LENGTH)\n",
    "\n",
    "dataset = DatasetDict()\n",
    "dataset['train'] = prepare_dataset_mlm(data=[line.gloss_list(segmented=True) for line in train_data],\n",
    "                                       tokenizer=tokenizer,\n",
    "                                       device=device)\n",
    "dataset['dev'] = prepare_dataset_mlm(data=[line.gloss_list(segmented=True) for line in eval_data],\n",
    "                                     tokenizer=tokenizer,\n",
    "                                     device=device)\n",
    "\n"
   ],
   "metadata": {
    "collapsed": false,
    "ExecuteTime": {
     "end_time": "2023-08-25T04:58:04.189952Z",
     "start_time": "2023-08-25T04:58:03.259075Z"
    }
   }
  },
  {
   "cell_type": "code",
   "execution_count": 147,
   "outputs": [
    {
     "data": {
      "text/plain": "{'tokens': ['ADV',\n  '[SEP]',\n  'INC',\n  'VT',\n  'SC',\n  '[SEP]',\n  'INC',\n  'E1S',\n  'VI',\n  '[SEP]',\n  'PRON'],\n 'input_ids': [58, 1, 30, 43, 38, 1, 30, 16, 42, 1, 46]}"
     },
     "execution_count": 147,
     "metadata": {},
     "output_type": "execute_result"
    }
   ],
   "source": [
    "dataset['train'][0]"
   ],
   "metadata": {
    "collapsed": false,
    "ExecuteTime": {
     "end_time": "2023-08-25T04:58:04.634957Z",
     "start_time": "2023-08-25T04:58:04.627560Z"
    }
   }
  },
  {
   "cell_type": "code",
   "execution_count": 208,
   "outputs": [
    {
     "name": "stdout",
     "output_type": "stream",
     "text": [
      "tensor([[[ -3.7854,  -0.2528, -12.0816,  ...,   0.4677,  -2.5497,   1.0582],\n",
      "         [ -3.6128,   8.8049,  -9.6641,  ...,  -2.0360,  -2.9220,  -0.2805],\n",
      "         [ -2.4408,   0.3544,  -7.9838,  ...,  -1.3915,  -2.6055,   0.9511],\n",
      "         ...,\n",
      "         [ -2.4071,   0.3933,  -7.6065,  ...,  -1.2953,  -2.1920,  -1.0713],\n",
      "         [ -2.4872,   0.3304,  -6.5033,  ...,  -1.8509,  -1.7035,   0.0232],\n",
      "         [ -3.9852,   1.7397, -13.6154,  ...,  -3.0252,  -3.7374,  -0.6126]]],\n",
      "       grad_fn=<ViewBackward0>)\n",
      "Preds after denoising tensor([[58,  1, 30, 43, 38,  1, 30, 16, 42,  1, 46, 62, 46, 58, 47, 47, 42, 47,\n",
      "         47, 42, 47, 47, 47, 47, 62, 58, 47, 58, 58, 42, 58, 17, 16, 16, 61, 16,\n",
      "         58, 42, 16, 16, 58, 42, 61, 16, 58, 42, 42, 58, 58, 42, 58, 47, 42, 43,\n",
      "         58, 42, 42, 16, 42, 58]])\n"
     ]
    }
   ],
   "source": [
    "from transformers import AutoModelForMaskedLM\n",
    "import torch\n",
    "\n",
    "denoiser = AutoModelForMaskedLM.from_pretrained(\"michaelginn/usp-gloss-denoiser\")\n",
    "\n",
    "preds = torch.LongTensor([[58, 1, 30, 43, 38, 1, 30, 16, 42, 1, 46, 16, 19, 58, 33, 58, 52, 58,\n",
    "                           16, 58, 16, 58, 32, 12, 40, 58, 58, 58, 58, 52, 58, 17, 16, 16, 61, 16,\n",
    "                           58, 52, 16, 16, 58, 40, 61, 16, 58, 40, 52, 58, 58, 19, 58, 32, 40, 32,\n",
    "                           58, 52, 52, 16, 52, 58]])\n",
    "attention_mask = torch.LongTensor([[1, 1, 1, 1, 1, 1, 1, 1, 1, 1, 1, 0, 0, 0, 0, 0, 0, 0, 0, 0, 0, 0, 0, 0,\n",
    "                                    0, 0, 0, 0, 0, 0, 0, 0, 0, 0, 0, 0, 0, 0, 0, 0, 0, 0, 0, 0, 0, 0, 0, 0,\n",
    "                                    0, 0, 0, 0, 0, 0, 0, 0, 0, 0, 0, 0]])\n",
    "\n",
    "denoised_logits = denoiser.forward(input_ids=preds, attention_mask=attention_mask).logits\n",
    "print(denoised_logits)\n",
    "print(\"Preds after denoising\", denoised_logits.max(-1).indices)"
   ],
   "metadata": {
    "collapsed": false,
    "ExecuteTime": {
     "end_time": "2023-08-25T20:16:33.523551Z",
     "start_time": "2023-08-25T20:16:33.224853Z"
    }
   }
  },
  {
   "cell_type": "code",
   "execution_count": 152,
   "outputs": [
    {
     "data": {
      "text/plain": "  0%|          | 0/10099 [00:00<?, ?ex/s]",
      "application/vnd.jupyter.widget-view+json": {
       "version_major": 2,
       "version_minor": 0,
       "model_id": "f39c023bf80b43dcbb98b5d767703c95"
      }
     },
     "metadata": {},
     "output_type": "display_data"
    },
    {
     "data": {
      "text/plain": "  0%|          | 0/1334 [00:00<?, ?ex/s]",
      "application/vnd.jupyter.widget-view+json": {
       "version_major": 2,
       "version_minor": 0,
       "model_id": "dcaae8121c1b489a9545cf3c3cf5b379"
      }
     },
     "metadata": {},
     "output_type": "display_data"
    }
   ],
   "source": [
    "from data import prepare_dataset\n",
    "\n",
    "train_vocab = create_vocab([line.morphemes() for line in train_data], threshold=1)\n",
    "tokenizer = WordLevelTokenizer(vocab=train_vocab, model_max_length=MODEL_INPUT_LENGTH)\n",
    "\n",
    "dataset2 = DatasetDict()\n",
    "dataset2['train'] = prepare_dataset(data=train_data, tokenizer=tokenizer, labels=glosses, device=device)\n",
    "dataset2['dev'] = prepare_dataset(data=eval_data, tokenizer=tokenizer, labels=glosses, device=device)"
   ],
   "metadata": {
    "collapsed": false,
    "ExecuteTime": {
     "end_time": "2023-08-25T05:02:36.842095Z",
     "start_time": "2023-08-25T05:02:33.669321Z"
    }
   }
  },
  {
   "cell_type": "code",
   "execution_count": 182,
   "outputs": [
    {
     "data": {
      "text/plain": "tensor([[ 58,   1,  30,  43,  38,   1,  30,  16,  42,   1,  46, -96, -96, -96,\n         -96, -96, -96, -96, -96, -96, -96, -96, -96, -96, -96, -96, -96, -96,\n         -96, -96, -96, -96, -96, -96, -96, -96, -96, -96, -96, -96, -96, -96,\n         -96, -96, -96, -96, -96, -96, -96, -96, -96, -96, -96, -96, -96, -96,\n         -96, -96, -96, -96, -96, -96, -96, -96]])"
     },
     "execution_count": 182,
     "metadata": {},
     "output_type": "execute_result"
    }
   ],
   "source": [
    "input_ids = torch.LongTensor([dataset2['train'][0]['input_ids']])\n",
    "preds[input_ids == 0] = 3\n",
    "\n",
    "preds"
   ],
   "metadata": {
    "collapsed": false,
    "ExecuteTime": {
     "end_time": "2023-08-25T05:12:29.834206Z",
     "start_time": "2023-08-25T05:12:29.827807Z"
    }
   }
  },
  {
   "cell_type": "code",
   "execution_count": 183,
   "outputs": [
    {
     "data": {
      "text/plain": "tensor([[58,  1, 30, 43, 38,  1, 30, 16, 42,  1, 46,  2,  2,  2,  2,  2,  2,  2,\n          2,  2,  2,  2,  2,  2,  2,  2,  2,  2,  2,  2,  2,  2,  2,  2,  2,  2,\n          2,  2,  2,  2,  2,  2,  2,  2,  2,  2,  2,  2,  2,  2,  2,  2,  2,  2,\n          2,  2,  2,  2,  2,  2,  2,  2,  2,  2]])"
     },
     "execution_count": 183,
     "metadata": {},
     "output_type": "execute_result"
    }
   ],
   "source": [
    "# preds = preds.narrow(-1, 0, 60)\n",
    "preds[preds < 0] = 2\n",
    "preds"
   ],
   "metadata": {
    "collapsed": false,
    "ExecuteTime": {
     "end_time": "2023-08-25T05:12:59.114800Z",
     "start_time": "2023-08-25T05:12:59.091165Z"
    }
   }
  },
  {
   "cell_type": "code",
   "execution_count": 184,
   "outputs": [
    {
     "data": {
      "text/plain": "tensor([[58,  1, 30, 43, 38,  1, 30, 16, 42,  1, 46,  1,  1,  1,  1,  1,  1,  1,\n          1,  1,  1,  1,  1,  1,  1,  1,  1,  1,  1,  1,  1,  1,  1,  1,  1,  1,\n          1,  1,  1,  1,  1,  1,  1,  1,  1,  1,  1,  1,  1,  1,  1,  1,  1,  1,\n          1,  1,  1,  1,  1,  1,  1,  1,  1,  1]])"
     },
     "execution_count": 184,
     "metadata": {},
     "output_type": "execute_result"
    }
   ],
   "source": [
    "denoised_preds = denoiser.forward(preds)\n",
    "denoised_preds.logits.argmax(dim=-1)"
   ],
   "metadata": {
    "collapsed": false,
    "ExecuteTime": {
     "end_time": "2023-08-25T05:13:00.989122Z",
     "start_time": "2023-08-25T05:13:00.972944Z"
    }
   }
  },
  {
   "cell_type": "code",
   "execution_count": 179,
   "outputs": [
    {
     "data": {
      "text/plain": "torch.Size([1, 60])"
     },
     "execution_count": 179,
     "metadata": {},
     "output_type": "execute_result"
    }
   ],
   "source": [
    "preds.size()"
   ],
   "metadata": {
    "collapsed": false,
    "ExecuteTime": {
     "end_time": "2023-08-25T05:10:22.307691Z",
     "start_time": "2023-08-25T05:10:22.292196Z"
    }
   }
  },
  {
   "cell_type": "code",
   "execution_count": 142,
   "outputs": [
    {
     "name": "stderr",
     "output_type": "stream",
     "text": [
      "Some weights of the model checkpoint at michaelginn/uspanteko-mlm-large were not used when initializing DenoisedModel: ['lm_head.dense.bias', 'lm_head.layer_norm.bias', 'lm_head.layer_norm.weight', 'lm_head.dense.weight', 'lm_head.bias']\n",
      "- This IS expected if you are initializing DenoisedModel from the checkpoint of a model trained on another task or with another architecture (e.g. initializing a BertForSequenceClassification model from a BertForPreTraining model).\n",
      "- This IS NOT expected if you are initializing DenoisedModel from the checkpoint of a model that you expect to be exactly identical (initializing a BertForSequenceClassification model from a BertForSequenceClassification model).\n",
      "Some weights of DenoisedModel were not initialized from the model checkpoint at michaelginn/uspanteko-mlm-large and are newly initialized: ['denoiser.roberta.encoder.layer.0.attention.self.key.weight', 'denoiser.roberta.encoder.layer.0.attention.self.value.weight', 'denoiser.roberta.encoder.layer.2.attention.self.value.weight', 'denoiser.roberta.encoder.layer.0.intermediate.dense.bias', 'denoiser.roberta.encoder.layer.2.output.LayerNorm.bias', 'denoiser.roberta.encoder.layer.1.intermediate.dense.weight', 'denoiser.roberta.encoder.layer.1.attention.self.key.weight', 'denoiser.roberta.encoder.layer.0.attention.self.query.bias', 'denoiser.roberta.encoder.layer.1.output.dense.weight', 'denoiser.roberta.encoder.layer.2.output.dense.bias', 'denoiser.roberta.encoder.layer.1.attention.output.LayerNorm.weight', 'denoiser.roberta.encoder.layer.0.intermediate.dense.weight', 'classifier.weight', 'denoiser.lm_head.decoder.weight', 'denoiser.roberta.encoder.layer.1.output.LayerNorm.weight', 'denoiser.lm_head.bias', 'denoiser.roberta.encoder.layer.0.attention.self.key.bias', 'denoiser.roberta.encoder.layer.2.intermediate.dense.bias', 'denoiser.roberta.encoder.layer.2.output.dense.weight', 'denoiser.roberta.encoder.layer.1.attention.self.key.bias', 'denoiser.roberta.encoder.layer.0.attention.output.LayerNorm.bias', 'denoiser.roberta.encoder.layer.0.output.dense.bias', 'denoiser.roberta.encoder.layer.2.attention.self.query.bias', 'denoiser.roberta.encoder.layer.1.attention.self.value.weight', 'denoiser.roberta.encoder.layer.2.intermediate.dense.weight', 'denoiser.lm_head.layer_norm.weight', 'denoiser.lm_head.decoder.bias', 'denoiser.roberta.encoder.layer.1.output.LayerNorm.bias', 'denoiser.roberta.encoder.layer.0.output.dense.weight', 'denoiser.roberta.encoder.layer.0.attention.self.value.bias', 'denoiser.lm_head.dense.weight', 'denoiser.roberta.encoder.layer.1.attention.self.query.weight', 'denoiser.roberta.encoder.layer.2.attention.self.query.weight', 'denoiser.roberta.embeddings.LayerNorm.weight', 'denoiser.roberta.encoder.layer.0.attention.self.query.weight', 'denoiser.roberta.encoder.layer.1.attention.self.value.bias', 'denoiser.roberta.encoder.layer.0.attention.output.LayerNorm.weight', 'denoiser.roberta.encoder.layer.1.attention.self.query.bias', 'denoiser.roberta.encoder.layer.0.output.LayerNorm.bias', 'denoiser.roberta.encoder.layer.2.output.LayerNorm.weight', 'denoiser.roberta.encoder.layer.1.attention.output.LayerNorm.bias', 'denoiser.roberta.encoder.layer.2.attention.self.value.bias', 'denoiser.roberta.embeddings.LayerNorm.bias', 'denoiser.roberta.encoder.layer.2.attention.output.dense.bias', 'denoiser.roberta.encoder.layer.2.attention.output.LayerNorm.bias', 'denoiser.roberta.encoder.layer.2.attention.self.key.bias', 'denoiser.roberta.encoder.layer.1.output.dense.bias', 'denoiser.roberta.encoder.layer.2.attention.output.LayerNorm.weight', 'denoiser.roberta.embeddings.word_embeddings.weight', 'denoiser.roberta.embeddings.token_type_embeddings.weight', 'denoiser.lm_head.layer_norm.bias', 'denoiser.lm_head.dense.bias', 'denoiser.roberta.encoder.layer.1.attention.output.dense.weight', 'denoiser.roberta.encoder.layer.0.attention.output.dense.bias', 'denoiser.roberta.encoder.layer.0.output.LayerNorm.weight', 'denoiser.roberta.encoder.layer.2.attention.output.dense.weight', 'denoiser.roberta.encoder.layer.1.intermediate.dense.bias', 'denoiser.roberta.embeddings.position_embeddings.weight', 'denoiser.roberta.encoder.layer.1.attention.output.dense.bias', 'denoiser.roberta.encoder.layer.0.attention.output.dense.weight', 'classifier.bias', 'denoiser.roberta.encoder.layer.2.attention.self.key.weight']\n",
      "You should probably TRAIN this model on a down-stream task to be able to use it for predictions and inference.\n"
     ]
    }
   ],
   "source": [
    "from denoised_model import DenoisedModel\n",
    "\n",
    "model = DenoisedModel.from_pretrained(\"michaelginn/uspanteko-mlm-large\", num_labels=len(glosses))\n"
   ],
   "metadata": {
    "collapsed": false,
    "ExecuteTime": {
     "end_time": "2023-08-25T04:55:59.555348Z",
     "start_time": "2023-08-25T04:55:58.721725Z"
    }
   }
  },
  {
   "cell_type": "code",
   "execution_count": 86,
   "outputs": [],
   "source": [
    "import torch\n",
    "\n",
    "out = model.forward(input_ids=torch.LongTensor(eval['input_ids']),\n",
    "                    attention_mask=torch.LongTensor(eval['attention_mask']))"
   ],
   "metadata": {
    "collapsed": false,
    "ExecuteTime": {
     "end_time": "2023-08-25T03:33:16.044021Z",
     "start_time": "2023-08-25T03:33:13.411257Z"
    }
   }
  },
  {
   "cell_type": "code",
   "execution_count": 114,
   "outputs": [],
   "source": [
    "preds = out.logits.max(-1).indices\n",
    "preds = preds.narrow(1, 0, 60)\n",
    "preds.size()"
   ],
   "metadata": {
    "collapsed": false,
    "ExecuteTime": {
     "end_time": "2023-08-25T03:50:45.453890Z",
     "start_time": "2023-08-25T03:50:45.442217Z"
    }
   }
  },
  {
   "cell_type": "code",
   "execution_count": 92,
   "outputs": [],
   "source": [
    "from transformers import AutoModelForMaskedLM\n",
    "\n",
    "denoiser = AutoModelForMaskedLM.from_pretrained(\"michaelginn/usp-gloss-denoiser\")\n",
    "\n",
    "attention_mask = (preds != 2).long()\n",
    "denoised_out = denoiser.forward(input_ids=preds, attention_mask=attention_mask)"
   ],
   "metadata": {
    "collapsed": false,
    "ExecuteTime": {
     "end_time": "2023-08-25T03:37:21.321932Z",
     "start_time": "2023-08-25T03:37:17.383807Z"
    }
   }
  },
  {
   "cell_type": "code",
   "execution_count": 103,
   "outputs": [
    {
     "data": {
      "text/plain": "tensor([[[-3.3836e+00, -5.1023e-01, -1.0617e+01,  ..., -1.3619e-01,\n           1.2214e+00,  1.1689e+00],\n         [-3.3444e+00,  5.2346e+00, -8.8257e+00,  ...,  5.2330e-01,\n          -3.1739e+00,  2.3671e+00],\n         [-3.3963e+00,  3.9592e+00, -9.6772e+00,  ..., -1.2468e+00,\n          -1.4130e+00,  1.1068e+00],\n         ...,\n         [-2.7051e+00,  4.3314e+00, -6.7782e+00,  ..., -6.9547e-01,\n          -1.8088e+00,  1.3990e+00],\n         [-2.4877e+00,  4.3198e+00, -6.3919e+00,  ..., -7.3392e-01,\n          -1.9627e+00,  1.5051e+00],\n         [-2.8166e+00,  4.1541e+00, -7.2809e+00,  ..., -1.0397e+00,\n          -1.8851e+00,  1.4013e+00]],\n\n        [[-2.8004e+00, -1.2937e-01, -7.9537e+00,  ..., -5.4015e-01,\n           9.1588e-01,  1.3190e+00],\n         [-3.4990e+00,  7.8989e+00, -9.1389e+00,  ..., -8.5067e-01,\n          -3.6493e+00,  1.0768e-02],\n         [-3.0368e+00,  3.7025e+00, -8.9272e+00,  ..., -1.8987e+00,\n          -1.3557e+00,  3.4993e-01],\n         ...,\n         [-2.7095e+00,  4.3989e+00, -6.7865e+00,  ..., -7.2100e-01,\n          -1.8220e+00,  1.3635e+00],\n         [-2.5063e+00,  4.3037e+00, -6.4692e+00,  ..., -7.6344e-01,\n          -1.9620e+00,  1.5050e+00],\n         [-2.7886e+00,  4.2309e+00, -7.1681e+00,  ..., -1.1392e+00,\n          -1.8711e+00,  1.2485e+00]],\n\n        [[-3.0132e+00, -7.3449e-01, -9.0341e+00,  ..., -5.7313e-02,\n           5.2846e-01,  3.2286e-01],\n         [-4.0373e+00,  8.3568e+00, -1.0412e+01,  ..., -1.1855e+00,\n          -3.3578e+00, -7.6145e-01],\n         [-2.7360e+00,  2.0876e+00, -8.0397e+00,  ...,  7.3047e-01,\n          -1.3260e+00,  2.0877e+00],\n         ...,\n         [-2.4668e+00,  2.9793e+00, -6.1862e+00,  ...,  1.7785e+00,\n          -1.4036e+00,  1.3143e+00],\n         [-2.3604e+00,  2.9841e+00, -6.1845e+00,  ...,  1.6683e+00,\n          -1.6481e+00,  1.4100e+00],\n         [-2.6497e+00,  2.9746e+00, -7.0946e+00,  ...,  1.3365e+00,\n          -1.6165e+00,  1.2896e+00]],\n\n        ...,\n\n        [[-3.8905e+00,  1.5446e+00, -1.1776e+01,  ...,  1.4690e+00,\n          -1.2491e+00,  2.8622e+00],\n         [-4.0911e+00,  7.6832e+00, -1.0967e+01,  ..., -3.1031e-01,\n          -3.0964e+00,  8.8400e-01],\n         [-4.0584e+00,  2.0564e+00, -1.1646e+01,  ...,  2.6971e+00,\n          -2.1500e+00,  4.8084e+00],\n         ...,\n         [-4.0434e+00,  4.8599e+00, -1.0008e+01,  ..., -8.8152e-02,\n          -2.7204e+00,  9.0654e-01],\n         [-3.8289e+00,  4.8885e+00, -9.6379e+00,  ..., -1.1292e-01,\n          -2.8815e+00,  8.8626e-01],\n         [-4.2569e+00,  4.6654e+00, -1.1062e+01,  ..., -1.6181e-01,\n          -2.9867e+00,  1.1544e+00]],\n\n        [[-2.0354e+00, -1.5041e+00, -5.9764e+00,  ...,  1.5374e+00,\n           3.1664e-01,  1.5896e+00],\n         [-4.3778e+00,  7.6563e+00, -1.2549e+01,  ..., -5.0663e-01,\n          -3.1780e+00, -5.4613e-02],\n         [-4.3752e+00,  1.8318e+00, -1.3972e+01,  ...,  1.5003e+00,\n          -6.4218e-01,  2.7685e+00],\n         ...,\n         [-4.0179e+00,  4.8972e+00, -9.9458e+00,  ..., -1.4016e-01,\n          -2.7267e+00,  8.6517e-01],\n         [-3.8033e+00,  4.9359e+00, -9.6063e+00,  ..., -1.5652e-01,\n          -2.8884e+00,  8.4420e-01],\n         [-4.2126e+00,  4.5991e+00, -1.0935e+01,  ..., -3.4898e-01,\n          -2.9665e+00,  9.6923e-01]],\n\n        [[-3.0288e+00, -1.3680e+00, -9.4701e+00,  ...,  7.2338e-01,\n           7.9900e-01,  1.7932e+00],\n         [-3.8752e+00,  5.9345e+00, -1.1914e+01,  ...,  8.0444e-01,\n          -3.9522e+00,  1.7272e+00],\n         [-3.3511e+00,  2.0932e+00, -1.0098e+01,  ...,  1.6553e+00,\n          -1.7220e+00,  3.8823e+00],\n         ...,\n         [-2.4636e+00,  4.0947e+00, -6.4984e+00,  ..., -7.9184e-01,\n          -1.7628e+00,  1.4051e+00],\n         [-2.6434e+00,  4.3875e+00, -6.6986e+00,  ..., -6.9326e-01,\n          -1.7476e+00,  1.3277e+00],\n         [-2.4763e+00,  4.5254e+00, -6.4063e+00,  ..., -8.6873e-01,\n          -1.9377e+00,  1.3191e+00]]], grad_fn=<ViewBackward0>)"
     },
     "execution_count": 103,
     "metadata": {},
     "output_type": "execute_result"
    }
   ],
   "source": [
    "denoised_out.logits"
   ],
   "metadata": {
    "collapsed": false,
    "ExecuteTime": {
     "end_time": "2023-08-25T03:45:49.638196Z",
     "start_time": "2023-08-25T03:45:49.628670Z"
    }
   }
  },
  {
   "cell_type": "code",
   "execution_count": 77,
   "outputs": [
    {
     "data": {
      "text/plain": "  0%|          | 0/10099 [00:00<?, ?ex/s]",
      "application/vnd.jupyter.widget-view+json": {
       "version_major": 2,
       "version_minor": 0,
       "model_id": "f521833bd2884ff99fe620148df02ba8"
      }
     },
     "metadata": {},
     "output_type": "display_data"
    }
   ],
   "source": [
    "from datasets import DatasetDict\n",
    "from data import prepare_dataset_mlm\n",
    "from transformers import DataCollatorForLanguageModeling\n",
    "\n",
    "glosses = create_gloss_vocab(morphology_tree)\n",
    "tokenizer = WordLevelTokenizer(vocab=glosses, model_max_length=64)\n",
    "\n",
    "dataset = DatasetDict()\n",
    "dataset['train'] = prepare_dataset_mlm(data=[line.gloss_list(segmented=True) for line in train_data],\n",
    "                                       tokenizer=tokenizer,\n",
    "                                       device=\"cpu\")\n",
    "\n",
    "data_collator = DataCollatorForLanguageModeling(tokenizer=tokenizer, mlm_probability=0.15, return_tensors=\"pt\")"
   ],
   "metadata": {
    "collapsed": false,
    "ExecuteTime": {
     "end_time": "2023-08-25T03:11:06.322775Z",
     "start_time": "2023-08-25T03:11:06.006803Z"
    }
   }
  },
  {
   "cell_type": "code",
   "execution_count": 211,
   "outputs": [
    {
     "data": {
      "text/plain": "OrderedDict([('roberta.embeddings.position_ids',\n              tensor([[ 0,  1,  2,  3,  4,  5,  6,  7,  8,  9, 10, 11, 12, 13, 14, 15, 16, 17,\n                       18, 19, 20, 21, 22, 23, 24, 25, 26, 27, 28, 29, 30, 31, 32, 33, 34, 35,\n                       36, 37, 38, 39, 40, 41, 42, 43, 44, 45, 46, 47, 48, 49, 50, 51, 52, 53,\n                       54, 55, 56, 57, 58, 59, 60, 61, 62, 63]])),\n             ('roberta.embeddings.word_embeddings.weight',\n              tensor([[-0.0508,  0.0042,  0.1040,  ..., -0.0196,  0.0712, -0.0308],\n                      [ 0.1025, -0.0581, -0.0144,  ..., -0.0967, -0.0408,  0.0322],\n                      [-0.1701, -0.0950,  0.2806,  ..., -0.1971,  0.1261, -0.1216],\n                      ...,\n                      [ 0.0093,  0.0255,  0.0605,  ...,  0.0110,  0.0079, -0.0444],\n                      [ 0.0033,  0.0424,  0.0091,  ...,  0.0214,  0.0552, -0.0003],\n                      [ 0.0682,  0.0908,  0.0248,  ..., -0.0159,  0.0089,  0.0124]])),\n             ('roberta.embeddings.position_embeddings.weight',\n              tensor([[-0.0007,  0.0188,  0.0212,  ...,  0.0141, -0.0157,  0.0024],\n                      [-0.0206, -0.0359,  0.0010,  ...,  0.0163,  0.0181, -0.0070],\n                      [ 0.0000,  0.0000,  0.0000,  ...,  0.0000,  0.0000,  0.0000],\n                      ...,\n                      [-0.0193,  0.0191, -0.0307,  ..., -0.0052, -0.0024, -0.0367],\n                      [ 0.0226, -0.0156, -0.0160,  ..., -0.0044,  0.0101,  0.0064],\n                      [ 0.0087, -0.0121, -0.0079,  ...,  0.0367, -0.0040, -0.0088]])),\n             ('roberta.embeddings.token_type_embeddings.weight',\n              tensor([[-1.7156e-02, -8.7138e-03,  1.9113e-03, -3.9876e-03, -4.0317e-03,\n                        9.5238e-03, -3.3511e-03, -6.5308e-04, -2.3469e-02, -3.4594e-03,\n                        5.5766e-03, -1.9274e-03, -1.0932e-02, -1.9055e-03,  5.4536e-04,\n                        1.4177e-02,  7.0956e-03, -2.1774e-03, -4.0683e-04, -1.8810e-02,\n                       -2.4823e-03, -2.4337e-02,  6.3105e-03, -1.3440e-02,  1.0273e-02,\n                        1.1418e-02,  3.8151e-03,  3.2303e-03,  3.1040e-03, -4.7258e-03,\n                        1.9099e-02, -1.4075e-02, -1.0108e-02, -1.5971e-02,  5.5575e-03,\n                       -1.1908e-02,  5.3336e-03, -3.1537e-03,  8.2253e-03, -4.9582e-03,\n                        8.1328e-03,  7.9811e-03, -1.0268e-03, -8.9979e-03,  1.6505e-03,\n                       -1.9774e-02,  5.5044e-03, -1.0653e-03,  1.5697e-03, -2.0422e-02,\n                        8.9839e-04,  1.5689e-02, -2.5616e-02, -8.5511e-04, -1.4365e-02,\n                       -1.3745e-02,  1.3152e-05,  1.9137e-03,  2.1366e-03,  4.2860e-03,\n                        9.4338e-04, -4.7897e-03,  2.1484e-03, -2.9330e-03, -1.8595e-03,\n                        2.3737e-03,  8.0117e-03, -1.9475e-04, -2.2225e-02,  2.9345e-02,\n                        2.9752e-03, -9.0294e-03, -7.7475e-03,  1.7138e-02, -6.4082e-03,\n                        1.9643e-02,  3.7555e-03, -1.4225e-02, -4.1765e-02, -4.9449e-03,\n                        1.4143e-02, -2.9325e-03, -4.8787e-03, -2.3615e-02, -3.7715e-03,\n                       -2.4805e-02, -1.8313e-02, -1.1323e-02,  1.8401e-02, -4.8540e-03,\n                        6.5098e-03, -3.5346e-03, -4.5086e-03, -7.8141e-04, -5.8235e-03,\n                        8.4037e-03,  3.9023e-03,  1.7476e-02,  3.0912e-03, -1.5914e-02],\n                      [ 1.9205e-02, -5.3689e-03,  3.0682e-03, -2.8894e-02, -6.7582e-03,\n                       -1.0732e-02, -2.2440e-02,  2.7642e-02,  2.7421e-03,  2.4918e-02,\n                       -1.9239e-02, -2.4351e-02, -1.0771e-02, -1.9210e-02, -4.3208e-02,\n                       -3.0540e-02,  2.1819e-02, -2.8851e-02,  7.5734e-04,  9.9492e-03,\n                        1.8303e-02,  5.8111e-02,  1.5271e-02,  1.8161e-02,  8.5266e-04,\n                        7.5030e-03,  1.3868e-02, -5.0983e-03, -1.9513e-03, -9.1731e-03,\n                       -2.3446e-02,  3.8097e-02, -1.7959e-02,  1.3533e-03,  2.4469e-02,\n                       -4.3096e-02,  1.7451e-02,  1.0301e-02,  1.7812e-02,  2.1220e-03,\n                       -2.9564e-02, -1.5031e-02, -2.9326e-02,  1.6606e-02,  2.3438e-02,\n                       -1.6338e-02, -1.1517e-02,  1.8798e-02,  6.2104e-03, -2.3113e-02,\n                        3.9510e-04,  9.2306e-04, -1.3594e-02,  3.0898e-03, -2.9962e-03,\n                        3.2943e-03,  2.0874e-03,  2.1904e-02,  6.9143e-03,  6.8649e-03,\n                       -4.3698e-02,  1.5136e-02,  2.6981e-02, -1.4199e-02,  5.8114e-03,\n                        5.2816e-03, -4.5354e-03,  9.1043e-03, -1.0504e-02,  1.3052e-02,\n                        1.4252e-02, -8.3039e-03, -2.9879e-02, -1.7495e-02, -9.0708e-04,\n                       -1.0995e-02, -1.1862e-02, -1.3888e-02, -1.1395e-02,  1.9171e-02,\n                       -4.7561e-03, -3.7554e-02, -1.2869e-02, -1.4562e-02,  2.6184e-03,\n                       -4.0336e-03,  8.5116e-03,  1.1137e-02, -1.8886e-02,  2.3404e-03,\n                        1.1651e-02,  3.9624e-02, -1.0578e-02,  1.6148e-02, -2.6664e-02,\n                        2.5939e-03, -7.4895e-04, -1.4883e-02,  2.3337e-03,  5.7958e-03]])),\n             ('roberta.embeddings.LayerNorm.weight',\n              tensor([0.9959, 1.0330, 1.0634, 1.0216, 1.0152, 1.0122, 1.0185, 1.0746, 1.0523,\n                      1.0419, 1.0215, 1.0261, 1.0297, 1.0196, 1.0303, 1.0201, 0.9922, 1.0215,\n                      1.0321, 1.0507, 1.0083, 0.9996, 1.0554, 1.0027, 1.0598, 0.9994, 0.9910,\n                      0.9986, 1.0357, 1.0437, 1.0297, 1.0005, 1.0225, 1.0742, 1.0104, 1.0584,\n                      1.0033, 1.0649, 0.9997, 1.0388, 1.0456, 1.0520, 1.0091, 1.0031, 1.0614,\n                      1.0452, 1.0266, 1.0515, 1.0399, 1.0192, 1.0137, 0.9989, 1.0543, 1.0213,\n                      0.9974, 1.0179, 1.0020, 1.0147, 1.0802, 1.0312, 1.0183, 1.0516, 1.0216,\n                      1.0325, 1.0283, 1.0111, 1.0194, 1.0408, 1.0260, 1.0324, 1.0255, 1.0327,\n                      1.0479, 1.0619, 0.9862, 1.0328, 1.0111, 1.0527, 1.0340, 1.0303, 1.0179,\n                      1.0326, 1.0248, 1.0433, 1.0463, 1.0408, 1.0095, 1.0197, 1.0274, 1.0733,\n                      1.0266, 1.0317, 1.0264, 1.0054, 1.0293, 1.0168, 1.0593, 1.0150, 1.0304,\n                      1.0466])),\n             ('roberta.embeddings.LayerNorm.bias',\n              tensor([ 0.0104,  0.0279,  0.0125, -0.0015, -0.0091,  0.0120,  0.0115, -0.0142,\n                      -0.0017, -0.0049, -0.0172,  0.0056, -0.0073,  0.0037,  0.0099, -0.0114,\n                      -0.0035,  0.0036,  0.0083,  0.0002,  0.0125,  0.0030, -0.0309,  0.0100,\n                       0.0163, -0.0083,  0.0006,  0.0064,  0.0127,  0.0278, -0.0107,  0.0158,\n                       0.0093,  0.0035,  0.0076, -0.0056, -0.0090,  0.0252,  0.0019, -0.0111,\n                       0.0014,  0.0134,  0.0176,  0.0354,  0.0254, -0.0009, -0.0142, -0.0494,\n                       0.0006,  0.0036, -0.0050,  0.0322,  0.0033,  0.0141,  0.0002,  0.0135,\n                      -0.0110,  0.0040, -0.0091,  0.0055, -0.0081, -0.0047,  0.0033,  0.0032,\n                       0.0200,  0.0084, -0.0010,  0.0162, -0.0112, -0.0050, -0.0018,  0.0054,\n                       0.0195, -0.0203, -0.0193, -0.0156,  0.0045, -0.0095, -0.0005,  0.0059,\n                       0.0068, -0.0287, -0.0042,  0.0117, -0.0143,  0.0195,  0.0029,  0.0014,\n                      -0.0198,  0.0042,  0.0034, -0.0048,  0.0014,  0.0079, -0.0097, -0.0027,\n                       0.0153,  0.0084, -0.0032,  0.0047])),\n             ('roberta.encoder.layer.0.attention.self.query.weight',\n              tensor([[ 0.0211,  0.0448,  0.1045,  ..., -0.0634,  0.1088,  0.0382],\n                      [ 0.0521,  0.0033, -0.0890,  ...,  0.0399, -0.0310,  0.0614],\n                      [ 0.0127, -0.0149, -0.1312,  ...,  0.0944,  0.0184,  0.0540],\n                      ...,\n                      [ 0.0194, -0.1083,  0.0390,  ..., -0.0470, -0.0300, -0.0042],\n                      [-0.0146,  0.0027, -0.0283,  ..., -0.0048,  0.0054, -0.0222],\n                      [-0.0468,  0.0338, -0.0182,  ..., -0.0175,  0.0038, -0.0505]])),\n             ('roberta.encoder.layer.0.attention.self.query.bias',\n              tensor([-0.0336,  0.0087, -0.0685, -0.0410,  0.0811,  0.0410, -0.0278, -0.0156,\n                       0.0764,  0.0208,  0.0178, -0.0826,  0.0528, -0.0956,  0.1312, -0.0323,\n                      -0.0535,  0.0256,  0.0036, -0.0725, -0.0236,  0.0240,  0.0173,  0.0341,\n                      -0.0344,  0.0224, -0.0479, -0.0683,  0.0506, -0.0185,  0.0025,  0.0387,\n                      -0.0002, -0.0492, -0.0479, -0.0051,  0.0291,  0.0259, -0.0433, -0.0699,\n                      -0.0195,  0.0232, -0.0140,  0.0208,  0.0071, -0.0302,  0.0307, -0.0711,\n                       0.0782, -0.0106, -0.0118,  0.0558, -0.0548, -0.0095,  0.0295, -0.0394,\n                      -0.0431, -0.0370,  0.0233, -0.0249,  0.0227, -0.0473,  0.0167,  0.0111,\n                      -0.0168,  0.0485, -0.0414, -0.0134, -0.0745, -0.0160, -0.0629,  0.0263,\n                      -0.0122,  0.0280, -0.0056, -0.0235, -0.0182, -0.0248,  0.0013, -0.0558,\n                      -0.0129, -0.0325,  0.0550, -0.0039, -0.0395,  0.0323, -0.0073, -0.0222,\n                       0.0239,  0.0297, -0.0002, -0.0047,  0.0534, -0.0297,  0.0473,  0.0578,\n                      -0.0730,  0.0266,  0.0022,  0.0358])),\n             ('roberta.encoder.layer.0.attention.self.key.weight',\n              tensor([[ 0.0115, -0.0874, -0.1033,  ...,  0.0143,  0.0681,  0.0384],\n                      [-0.0179, -0.0211,  0.0727,  ..., -0.0632, -0.0122, -0.0652],\n                      [-0.0179, -0.0792,  0.0445,  ..., -0.0837,  0.0266, -0.0450],\n                      ...,\n                      [ 0.0140,  0.0758, -0.0145,  ...,  0.0123,  0.0363,  0.0881],\n                      [-0.0219,  0.0204,  0.0147,  ..., -0.0097, -0.0359,  0.0117],\n                      [ 0.0050,  0.0123,  0.0019,  ...,  0.0337, -0.0655,  0.0058]])),\n             ('roberta.encoder.layer.0.attention.self.key.bias',\n              tensor([-1.0791e-05, -3.3066e-05, -5.1445e-05, -1.8599e-05,  2.8878e-05,\n                      -1.9113e-06, -1.2846e-05,  1.6718e-05, -1.2755e-04,  3.2489e-05,\n                       4.4146e-07, -3.8145e-05, -4.6422e-05,  6.1066e-05,  1.2533e-05,\n                       2.7926e-06,  4.7993e-05,  6.8042e-05, -3.6370e-05,  1.7219e-05,\n                       2.2571e-05,  1.2034e-05, -1.6349e-05, -2.9755e-05,  1.4991e-05,\n                      -1.7334e-05,  5.7023e-05,  3.4001e-05, -2.0381e-05,  1.0179e-05,\n                      -2.5298e-05, -9.1805e-06,  6.1119e-06,  2.6719e-05,  1.3124e-05,\n                       2.9457e-06, -3.6855e-05, -3.3452e-05,  3.8378e-05,  2.5791e-05,\n                       1.2736e-05,  3.9588e-06,  4.2218e-06, -6.4836e-06,  3.9281e-06,\n                       8.5867e-06, -6.2439e-07,  9.8070e-06,  6.3652e-06, -7.1184e-06,\n                       9.2782e-06,  1.3608e-05, -1.7014e-05,  2.2973e-05, -1.2948e-05,\n                      -9.4915e-06, -1.5635e-05, -2.2698e-06, -6.2055e-06, -1.1951e-05,\n                       3.2007e-05, -1.0655e-06, -8.4119e-06,  1.1284e-06,  2.9174e-05,\n                       1.4997e-05,  8.5923e-06,  2.3942e-05,  2.9368e-05,  1.7468e-05,\n                      -4.2844e-06, -1.2818e-05, -1.9095e-05, -3.7137e-06,  1.5918e-05,\n                      -7.1646e-06,  1.6231e-05,  4.8008e-06,  2.1068e-06, -4.8798e-05,\n                      -8.4902e-07,  7.3425e-06,  1.6634e-05, -1.0030e-06, -2.2668e-05,\n                       9.1686e-06, -8.8517e-06, -1.1066e-05, -1.5439e-05,  1.8424e-06,\n                      -1.3408e-05, -2.5772e-05,  3.2250e-05, -5.7868e-07,  3.3603e-05,\n                       4.2050e-05, -1.0002e-05,  1.3322e-05, -8.6054e-06,  2.6499e-05])),\n             ('roberta.encoder.layer.0.attention.self.value.weight',\n              tensor([[ 0.0059,  0.0320,  0.0029,  ..., -0.0060,  0.0046, -0.0030],\n                      [-0.0326, -0.0186, -0.0317,  ..., -0.0103,  0.0122, -0.0368],\n                      [-0.0233,  0.0251, -0.0196,  ...,  0.0403, -0.0665, -0.0295],\n                      ...,\n                      [ 0.0231, -0.0207, -0.0003,  ...,  0.0220,  0.0044,  0.0307],\n                      [ 0.0143,  0.0202, -0.0015,  ..., -0.0510, -0.0292, -0.0408],\n                      [-0.0428,  0.0849, -0.0104,  ..., -0.0040,  0.0104, -0.0158]])),\n             ('roberta.encoder.layer.0.attention.self.value.bias',\n              tensor([-1.1166e-02,  2.5909e-02,  3.7503e-02,  2.5467e-02, -3.3368e-02,\n                       3.0362e-02, -3.5040e-02,  3.0552e-02, -8.4335e-03, -2.8462e-02,\n                       2.9113e-02, -2.8181e-02, -2.0916e-02,  3.0499e-02, -2.6414e-02,\n                       1.1043e-02, -2.5109e-02, -9.8384e-03,  3.5040e-02,  2.9975e-02,\n                       1.0301e-02, -4.0419e-03,  4.0449e-03, -1.2910e-02, -5.2092e-03,\n                       1.2843e-02, -2.0123e-02, -1.4738e-02, -8.8344e-03, -1.6706e-02,\n                       1.2174e-02, -1.2840e-02, -1.0790e-02, -2.7379e-02, -1.4624e-02,\n                       1.2737e-03, -1.2302e-02, -3.6100e-03,  7.3330e-03,  5.3038e-03,\n                       2.5541e-02,  6.2423e-03, -2.2533e-02, -1.7819e-02,  2.4693e-02,\n                       1.6330e-02, -1.9665e-02, -2.1720e-02, -1.6001e-02, -2.4550e-02,\n                      -2.0991e-02,  1.3507e-02,  2.6788e-02,  2.2801e-02,  6.5419e-05,\n                      -2.6742e-02,  1.4783e-02, -2.2037e-03,  2.2253e-02, -6.7077e-04,\n                      -2.5092e-02,  4.8274e-03, -2.4246e-02,  1.6705e-02,  1.0840e-02,\n                       2.4254e-02, -1.8088e-02, -7.0723e-03, -2.0971e-02,  2.0898e-02,\n                      -1.4070e-02, -4.5801e-03,  2.1958e-02, -3.7123e-02, -1.0541e-02,\n                       3.1348e-02,  3.4301e-03,  2.4118e-02,  1.9810e-02,  2.3234e-02,\n                       2.4138e-02,  2.8711e-03, -1.9856e-02, -2.3080e-02, -2.8262e-02,\n                      -1.8583e-02,  2.1262e-02,  1.4113e-02,  1.1823e-02,  3.2179e-02,\n                       2.8995e-02,  2.0383e-02, -1.9122e-02,  1.4691e-02, -3.2608e-02,\n                      -6.2049e-03, -2.0221e-02,  2.4378e-04, -9.9990e-03,  2.3242e-02])),\n             ('roberta.encoder.layer.0.attention.output.dense.weight',\n              tensor([[-0.0666, -0.0501, -0.0252,  ...,  0.0156, -0.0239,  0.0013],\n                      [-0.0053, -0.0072, -0.0197,  ..., -0.0047, -0.0097, -0.0242],\n                      [ 0.0045, -0.0545, -0.0040,  ...,  0.0487,  0.0187,  0.0075],\n                      ...,\n                      [ 0.0176, -0.0143,  0.0442,  ..., -0.0015,  0.0163,  0.0392],\n                      [-0.0472, -0.0109,  0.0163,  ..., -0.0610, -0.0177, -0.0149],\n                      [-0.0657,  0.0395,  0.0438,  ..., -0.0255,  0.0301, -0.0033]])),\n             ('roberta.encoder.layer.0.attention.output.dense.bias',\n              tensor([-9.9278e-03, -3.7148e-03, -1.0794e-02,  5.9949e-03, -1.0409e-03,\n                      -3.5179e-03,  3.0488e-03, -1.4823e-02, -1.6500e-02, -1.1005e-02,\n                       8.5191e-03, -6.3928e-03,  1.3572e-02,  1.1682e-03,  2.3058e-02,\n                       1.5233e-02,  1.1529e-02, -9.1509e-03, -1.6593e-02, -3.3347e-03,\n                      -3.9637e-03, -1.3045e-02,  5.6527e-03, -4.4596e-03,  1.9776e-02,\n                      -1.7820e-03, -1.4174e-02, -2.6753e-02,  3.0415e-03,  1.5639e-02,\n                       6.2928e-03,  2.3440e-03,  1.0921e-02, -7.3036e-03,  7.0160e-03,\n                      -5.5807e-03, -2.8407e-03, -1.3514e-02,  7.5519e-03, -1.5037e-03,\n                       7.3549e-03, -3.6262e-03, -1.4672e-02,  1.4319e-02,  5.5228e-03,\n                      -9.0481e-06,  1.0339e-02, -1.2464e-03,  3.7720e-03,  1.1931e-03,\n                       1.0028e-02, -1.7259e-02, -7.7766e-03, -2.8966e-03, -5.8931e-03,\n                       3.9425e-03,  1.8313e-02, -5.8743e-03,  7.8322e-03, -4.7982e-03,\n                       5.8149e-03,  1.5794e-03, -1.9680e-02,  1.5466e-02,  2.2463e-03,\n                       2.4710e-03,  2.0899e-02,  1.6663e-03, -1.2760e-03,  1.9555e-03,\n                       7.2252e-04, -1.7043e-02, -1.4514e-02,  1.2946e-02,  3.0189e-02,\n                       2.1044e-02,  3.9543e-03,  1.4741e-03, -1.0780e-02,  4.8944e-03,\n                       8.8679e-03,  6.0003e-03, -7.0989e-03, -1.5635e-02,  1.1689e-02,\n                      -5.8041e-03, -3.6718e-03,  2.4605e-03, -6.4166e-04,  1.3143e-02,\n                      -6.9278e-03, -7.1533e-04, -6.0251e-03,  3.9645e-04, -1.4017e-02,\n                      -7.1134e-03, -7.5117e-03,  3.9940e-03, -9.0453e-03,  5.0412e-03])),\n             ('roberta.encoder.layer.0.attention.output.LayerNorm.weight',\n              tensor([0.9927, 1.0084, 1.0253, 1.0016, 0.9927, 1.0077, 1.0083, 1.0293, 1.0374,\n                      1.0097, 1.0055, 0.9995, 1.0146, 1.0153, 1.0092, 0.9897, 0.9886, 1.0121,\n                      1.0195, 1.0131, 0.9963, 0.9975, 1.0304, 1.0020, 1.0284, 0.9997, 0.9771,\n                      1.0011, 1.0131, 1.0170, 1.0058, 0.9972, 1.0098, 1.0257, 1.0005, 1.0184,\n                      0.9859, 1.0318, 0.9860, 1.0230, 1.0144, 1.0340, 0.9947, 0.9943, 1.0304,\n                      1.0260, 1.0119, 1.0240, 1.0183, 1.0095, 1.0124, 0.9953, 1.0303, 0.9994,\n                      0.9964, 1.0096, 0.9935, 1.0001, 1.0407, 1.0214, 1.0063, 1.0203, 1.0058,\n                      1.0180, 1.0156, 1.0011, 1.0138, 1.0095, 1.0022, 1.0094, 1.0035, 1.0042,\n                      1.0305, 1.0425, 0.9869, 1.0073, 1.0007, 1.0184, 1.0208, 1.0092, 0.9975,\n                      1.0206, 1.0136, 1.0027, 1.0066, 1.0243, 1.0009, 1.0147, 1.0010, 1.0399,\n                      1.0081, 1.0121, 1.0063, 1.0010, 1.0124, 1.0097, 1.0328, 1.0085, 1.0116,\n                      1.0289])),\n             ('roberta.encoder.layer.0.attention.output.LayerNorm.bias',\n              tensor([-1.3346e-02,  8.8658e-03, -1.5545e-02,  1.4041e-02, -4.8204e-03,\n                      -1.7273e-03,  1.2935e-02, -1.7682e-02, -5.9436e-04,  3.9324e-03,\n                       1.5721e-03, -6.4332e-03,  1.5172e-02,  9.0866e-04,  2.3978e-02,\n                       1.1539e-02,  4.7092e-03, -1.0942e-02, -1.8137e-02,  5.0293e-03,\n                      -1.1933e-03, -1.1090e-02, -2.9253e-03, -9.4936e-05,  9.9516e-03,\n                      -1.3777e-02, -5.5776e-03, -1.7644e-02,  8.4957e-03,  1.5281e-02,\n                       1.0575e-03, -1.6609e-02,  2.4215e-04, -1.2735e-03,  3.0813e-03,\n                       2.1581e-03, -1.6026e-02, -3.0893e-03,  6.4939e-03,  9.3936e-03,\n                       1.5132e-02, -9.4344e-03, -1.0802e-02,  7.8378e-03, -9.5152e-04,\n                      -7.5833e-04,  3.4879e-03, -2.8820e-03, -5.4715e-03, -3.8528e-03,\n                       9.8715e-03, -8.1032e-03,  3.9824e-04, -1.0874e-02, -1.3504e-02,\n                       1.2349e-02,  8.3286e-03, -3.6082e-03,  2.8909e-03, -6.8698e-03,\n                      -2.8668e-04,  9.6888e-03, -1.6202e-02,  1.5911e-02, -1.0191e-03,\n                      -3.5955e-03,  1.3275e-02, -3.8499e-03, -3.2114e-03, -1.8016e-03,\n                       4.0592e-03, -9.3805e-03, -6.3440e-03,  2.2266e-02,  2.8777e-02,\n                       2.1671e-02, -1.2324e-05,  4.9802e-03, -4.7657e-03, -7.8260e-03,\n                       1.4069e-02,  1.1622e-02, -6.0867e-03, -1.1049e-02,  1.0349e-02,\n                      -1.7695e-02, -4.9686e-03,  3.0208e-03, -2.4571e-03,  3.4368e-03,\n                      -4.8981e-03, -2.1343e-03, -2.5401e-03,  1.1326e-02, -3.9811e-03,\n                       7.5390e-05, -6.2460e-03, -6.7947e-03, -9.9288e-03, -6.9448e-03])),\n             ('roberta.encoder.layer.0.intermediate.dense.weight',\n              tensor([[-0.0259, -0.0019,  0.0033,  ...,  0.0062,  0.0206, -0.0043],\n                      [-0.0242,  0.0337, -0.0143,  ...,  0.0369, -0.0102,  0.0277],\n                      [ 0.0136, -0.0272,  0.0090,  ...,  0.0029,  0.0063,  0.0254],\n                      ...,\n                      [ 0.0334,  0.0069, -0.0257,  ...,  0.0068, -0.0506, -0.0158],\n                      [ 0.0109, -0.0142,  0.0237,  ..., -0.0056,  0.0092,  0.0049],\n                      [ 0.0024,  0.0070,  0.0489,  ...,  0.0503, -0.0462,  0.0294]])),\n             ('roberta.encoder.layer.0.intermediate.dense.bias',\n              tensor([-0.0009, -0.0037, -0.0018,  ...,  0.0015,  0.0059, -0.0034])),\n             ('roberta.encoder.layer.0.output.dense.weight',\n              tensor([[ 0.0280,  0.0405,  0.0279,  ...,  0.0046,  0.0053, -0.0647],\n                      [ 0.0198, -0.0077, -0.0012,  ...,  0.0336,  0.0252, -0.0083],\n                      [ 0.0009,  0.0145, -0.0309,  ..., -0.0308, -0.0139,  0.0170],\n                      ...,\n                      [ 0.0125, -0.0069, -0.0081,  ...,  0.0049, -0.0215, -0.0390],\n                      [-0.0227, -0.0057,  0.0234,  ..., -0.0257, -0.0200,  0.0396],\n                      [ 0.0267,  0.0242, -0.0347,  ..., -0.0029,  0.0129, -0.0287]])),\n             ('roberta.encoder.layer.0.output.dense.bias',\n              tensor([-0.0055,  0.0047, -0.0036,  0.0060, -0.0019,  0.0049,  0.0155,  0.0036,\n                      -0.0003, -0.0037,  0.0004, -0.0045,  0.0061, -0.0040,  0.0064,  0.0043,\n                       0.0018, -0.0006, -0.0102,  0.0045, -0.0006, -0.0081, -0.0031, -0.0029,\n                       0.0088, -0.0053,  0.0010,  0.0012,  0.0080,  0.0072,  0.0055, -0.0097,\n                      -0.0022, -0.0024,  0.0070, -0.0040, -0.0074,  0.0005,  0.0081, -0.0045,\n                       0.0044, -0.0034,  0.0020,  0.0084,  0.0017, -0.0060, -0.0022, -0.0062,\n                      -0.0023, -0.0071,  0.0013,  0.0082, -0.0016,  0.0006, -0.0076, -0.0010,\n                       0.0010, -0.0054, -0.0022, -0.0029,  0.0025,  0.0053, -0.0053,  0.0025,\n                      -0.0005, -0.0021,  0.0088, -0.0134, -0.0080,  0.0016, -0.0032, -0.0031,\n                      -0.0044,  0.0155,  0.0040,  0.0085, -0.0032, -0.0025,  0.0001, -0.0089,\n                       0.0068, -0.0006, -0.0057, -0.0028,  0.0035, -0.0046, -0.0071, -0.0027,\n                      -0.0012, -0.0045,  0.0083,  0.0051,  0.0002,  0.0045, -0.0059,  0.0017,\n                       0.0002,  0.0053, -0.0100, -0.0082])),\n             ('roberta.encoder.layer.0.output.LayerNorm.weight',\n              tensor([1.0447, 1.0469, 1.0494, 1.0605, 1.0348, 1.0476, 1.0496, 1.0623, 1.0662,\n                      1.0506, 1.0477, 1.0181, 1.0352, 1.0589, 1.0404, 1.0286, 1.0384, 1.0505,\n                      1.0412, 1.0615, 1.0315, 1.0373, 1.0490, 1.0452, 1.0538, 1.0306, 1.0243,\n                      1.0438, 1.0380, 1.0853, 1.0370, 1.0393, 1.0297, 1.0681, 1.0284, 1.0409,\n                      1.0396, 1.0574, 1.0333, 1.0437, 1.0615, 1.0546, 1.0348, 1.0276, 1.0569,\n                      1.0573, 1.0472, 1.0693, 1.0504, 1.0431, 1.0397, 1.0242, 1.0525, 1.0524,\n                      1.0507, 1.0447, 1.0508, 1.0306, 1.0591, 1.0525, 1.0435, 1.0443, 1.0472,\n                      1.0581, 1.0611, 1.0546, 1.0418, 1.0434, 1.0525, 1.0327, 1.0659, 1.0279,\n                      1.0589, 1.0461, 1.0331, 1.0234, 1.0467, 1.0520, 1.0478, 1.0586, 1.0113,\n                      1.0453, 1.0454, 1.0314, 1.0529, 1.0292, 1.0424, 1.0722, 1.0354, 1.0731,\n                      1.0561, 1.0497, 1.0439, 1.0293, 1.0556, 1.0345, 1.0587, 1.0242, 1.0453,\n                      1.0394])),\n             ('roberta.encoder.layer.0.output.LayerNorm.bias',\n              tensor([-1.9264e-02,  2.6303e-02, -2.5078e-02,  1.8458e-02, -1.3963e-02,\n                       2.5035e-02,  2.8358e-02,  1.3032e-02, -1.7324e-02, -1.2735e-02,\n                      -6.1122e-03, -6.1278e-03, -3.8279e-03,  7.5635e-03,  2.0565e-02,\n                      -1.5326e-03,  1.0030e-02, -8.9012e-03, -2.8813e-02,  8.3964e-03,\n                       4.4802e-03, -2.3360e-02,  1.8859e-02,  2.8288e-04,  2.6468e-03,\n                      -1.4444e-03,  8.0618e-03, -4.2772e-03,  2.5632e-02,  1.5855e-02,\n                       6.7615e-03, -2.9297e-02,  4.8562e-03, -1.9323e-02,  1.3436e-02,\n                      -1.9163e-02, -2.7098e-02, -5.4170e-03,  1.0220e-02, -8.2476e-03,\n                       2.1734e-02, -9.0153e-03,  2.0170e-02,  1.1941e-02, -5.1907e-03,\n                      -9.7566e-03,  1.5049e-03, -2.5649e-02, -2.0904e-03, -2.7807e-02,\n                       4.8604e-03,  2.1734e-02, -1.1550e-03, -4.3058e-03, -1.5350e-02,\n                      -8.0907e-03,  9.4524e-03, -8.0397e-03,  1.5445e-02, -1.4303e-02,\n                       5.8172e-03,  1.6158e-02, -1.2645e-02,  1.7039e-02, -2.4227e-03,\n                       3.1307e-05,  1.1580e-02, -2.9562e-02, -2.0021e-02,  2.4476e-03,\n                      -3.6246e-03,  5.8447e-04,  1.9369e-05,  1.6470e-02,  1.8041e-02,\n                       8.5058e-03, -7.4349e-03,  7.1965e-04, -1.1645e-02, -1.5925e-02,\n                      -5.7840e-03, -4.2790e-03, -1.4473e-02,  5.1049e-03,  7.8715e-03,\n                      -3.5226e-03, -2.4739e-02, -1.0904e-02,  4.5034e-03,  9.9428e-03,\n                       1.9479e-02,  6.9009e-03, -9.2516e-04,  2.0079e-02, -1.0641e-02,\n                      -1.0208e-03,  1.0724e-02,  7.0120e-03, -2.0299e-02, -1.6966e-02])),\n             ('roberta.encoder.layer.1.attention.self.query.weight',\n              tensor([[ 0.0276, -0.0021, -0.1130,  ...,  0.1572,  0.0394,  0.0923],\n                      [-0.0130, -0.1635, -0.0272,  ...,  0.0363, -0.0917, -0.0051],\n                      [-0.0220, -0.0787,  0.0103,  ...,  0.0789, -0.1042,  0.0752],\n                      ...,\n                      [-0.0021,  0.0584, -0.0475,  ...,  0.0261,  0.0414,  0.0613],\n                      [-0.0071,  0.0457, -0.0145,  ...,  0.0309,  0.0575,  0.0664],\n                      [ 0.0405, -0.1643, -0.0546,  ...,  0.0040, -0.0845, -0.0048]])),\n             ('roberta.encoder.layer.1.attention.self.query.bias',\n              tensor([-2.0821e-02,  4.9180e-02, -5.7992e-03, -2.3344e-03, -3.9453e-02,\n                      -2.6255e-02,  6.6823e-02, -5.5353e-02, -1.3770e-02, -7.8973e-02,\n                       1.4658e-02,  2.7057e-02,  1.3485e-02,  4.7792e-02,  6.7396e-03,\n                       1.6117e-02, -4.5055e-02, -5.2907e-03,  2.9512e-02,  1.9904e-02,\n                      -2.3808e-02,  2.3295e-02, -2.1604e-03,  2.8220e-02, -1.3977e-03,\n                       5.4928e-03,  2.9346e-03,  4.1261e-03, -2.9072e-02, -2.5879e-03,\n                      -2.8826e-02, -2.4856e-02, -2.8172e-02, -5.7076e-03, -2.8113e-02,\n                      -3.0920e-02, -2.6582e-02, -1.2982e-02,  9.1272e-03,  7.0373e-02,\n                      -6.6950e-03, -5.6811e-03,  1.3594e-02,  8.0318e-02,  4.7838e-02,\n                       5.3595e-05, -1.3195e-03, -3.4610e-02, -5.5324e-03,  1.4202e-02,\n                       4.3663e-02, -3.0579e-02, -4.0851e-02,  2.4627e-02,  1.5587e-02,\n                       1.0901e-02,  5.7190e-02,  3.0982e-02, -1.1574e-02,  7.0145e-02,\n                       4.0952e-02,  3.8424e-03, -1.0269e-01,  3.9500e-02,  1.9711e-04,\n                       3.0999e-02, -3.9054e-02, -4.2075e-03,  1.3942e-02,  3.1409e-02,\n                      -1.1987e-02,  4.2618e-02,  1.5743e-02,  1.4993e-02,  2.2735e-02,\n                      -4.5833e-02,  6.6192e-03, -5.3340e-02, -1.3394e-03, -1.5069e-02,\n                      -3.6216e-03, -1.2814e-02, -6.5665e-03,  6.0109e-03,  1.4598e-03,\n                       1.1524e-02,  4.9249e-03, -9.9003e-04,  1.4964e-02,  2.8043e-02,\n                      -2.5772e-02, -3.7826e-02,  5.0132e-02, -2.8313e-02, -8.2783e-03,\n                       9.9072e-03, -5.8636e-03,  2.4226e-02,  1.6393e-02, -6.6315e-03])),\n             ('roberta.encoder.layer.1.attention.self.key.weight',\n              tensor([[-0.0011,  0.0130, -0.0052,  ..., -0.0083,  0.0216, -0.0401],\n                      [-0.0559,  0.1187,  0.1470,  ..., -0.0584,  0.0124, -0.0699],\n                      [ 0.0004,  0.0364,  0.0015,  ..., -0.0317,  0.0886, -0.0420],\n                      ...,\n                      [-0.0235, -0.0248,  0.0659,  ..., -0.0158, -0.0569, -0.0228],\n                      [ 0.0019, -0.0536,  0.0904,  ..., -0.0519, -0.0140, -0.0942],\n                      [-0.0156,  0.0718,  0.0139,  ...,  0.0031,  0.0744,  0.0217]])),\n             ('roberta.encoder.layer.1.attention.self.key.bias',\n              tensor([-4.1292e-05,  4.5313e-05,  1.4293e-04,  1.9730e-04,  7.3355e-05,\n                       1.6200e-04, -2.8900e-05,  1.8630e-04,  2.8063e-04,  6.3143e-05,\n                      -4.4282e-05, -1.2458e-04,  2.0541e-05,  3.1212e-06, -6.1656e-05,\n                       3.1327e-06,  1.5237e-04,  3.1006e-05, -6.7092e-05,  1.3856e-04,\n                       2.1169e-04, -2.2010e-04,  2.1354e-04, -1.5674e-04,  1.8206e-04,\n                      -6.4601e-06, -9.4228e-05,  9.6955e-05, -5.4547e-05,  1.3582e-04,\n                      -4.5374e-05, -3.0764e-05, -5.6283e-05, -3.7462e-05,  5.3000e-05,\n                       1.3786e-04, -5.8239e-05, -6.6003e-05,  5.1008e-05, -9.1185e-05,\n                      -1.4996e-04,  3.0650e-05,  5.0705e-05, -1.6821e-05,  7.2341e-05,\n                       1.3243e-05,  1.1781e-04,  1.0408e-04,  2.3084e-05, -9.0517e-05,\n                       4.6036e-06, -2.5520e-05, -3.4614e-05,  4.8757e-05, -4.3496e-05,\n                       1.5088e-06, -2.3630e-05, -6.9084e-05,  6.1219e-05, -9.0903e-06,\n                      -2.7141e-05, -3.4578e-05,  5.6039e-05, -4.9771e-05,  2.2292e-05,\n                      -2.4468e-05, -9.8499e-07,  3.3267e-05,  5.9275e-06, -3.0704e-05,\n                      -2.6170e-06, -8.7299e-06,  1.7774e-05, -1.4325e-05, -1.0581e-05,\n                      -4.1221e-06,  1.2093e-05,  2.1536e-05, -4.5068e-06,  5.4145e-06,\n                      -2.5370e-05, -1.1361e-05, -9.0818e-06,  6.1215e-05, -9.6763e-05,\n                       6.3302e-06, -5.5988e-06,  4.3722e-05, -4.0395e-05, -2.8459e-05,\n                       1.3335e-04,  3.6476e-05, -1.1714e-04,  2.7653e-05, -4.9918e-05,\n                      -3.5845e-05, -1.6558e-05, -2.0911e-06, -8.7792e-05, -8.0328e-05])),\n             ('roberta.encoder.layer.1.attention.self.value.weight',\n              tensor([[-0.0539, -0.1002, -0.0249,  ..., -0.0030, -0.0096, -0.0535],\n                      [-0.0330,  0.0246,  0.0413,  ..., -0.0021, -0.0239,  0.0219],\n                      [ 0.0337,  0.0691,  0.0146,  ..., -0.0292, -0.0283, -0.0183],\n                      ...,\n                      [-0.0252,  0.0328,  0.0199,  ...,  0.0252, -0.0051,  0.0117],\n                      [-0.0311, -0.0339,  0.0023,  ..., -0.0361, -0.0284, -0.0063],\n                      [-0.0190,  0.0045,  0.0013,  ..., -0.0042,  0.0229, -0.0046]])),\n             ('roberta.encoder.layer.1.attention.self.value.bias',\n              tensor([-0.0102,  0.0276,  0.0218, -0.0423, -0.0147, -0.0398,  0.0272, -0.0021,\n                       0.0326,  0.0416,  0.0161, -0.0396,  0.0195, -0.0062, -0.0379, -0.0089,\n                       0.0330, -0.0352,  0.0221, -0.0129,  0.0233, -0.0098,  0.0199,  0.0156,\n                      -0.0112, -0.0181, -0.0044,  0.0261,  0.0150, -0.0188, -0.0253,  0.0063,\n                      -0.0148, -0.0285,  0.0073,  0.0257, -0.0028, -0.0385, -0.0021,  0.0006,\n                      -0.0011, -0.0071, -0.0126, -0.0044,  0.0016, -0.0070, -0.0116,  0.0010,\n                      -0.0068,  0.0005,  0.0211, -0.0137,  0.0035, -0.0136, -0.0144, -0.0063,\n                       0.0100,  0.0032,  0.0067,  0.0099,  0.0175, -0.0324,  0.0176,  0.0083,\n                       0.0232,  0.0126, -0.0107,  0.0067,  0.0251,  0.0265, -0.0362, -0.0237,\n                       0.0073,  0.0176,  0.0302, -0.0279,  0.0169,  0.0103, -0.0276, -0.0054,\n                      -0.0113, -0.0105,  0.0208,  0.0108, -0.0050,  0.0350,  0.0189,  0.0114,\n                      -0.0125, -0.0210,  0.0093, -0.0004,  0.0207,  0.0139, -0.0186,  0.0316,\n                      -0.0056,  0.0070,  0.0237,  0.0016])),\n             ('roberta.encoder.layer.1.attention.output.dense.weight',\n              tensor([[ 8.2905e-02,  3.0080e-02, -7.6663e-02,  ..., -4.1385e-02,\n                        4.1730e-02, -4.5117e-02],\n                      [-8.8656e-03,  5.2990e-02, -2.8684e-02,  ..., -2.4716e-02,\n                       -1.6027e-02, -1.5342e-02],\n                      [-1.4882e-02,  2.7827e-03,  3.5602e-02,  ...,  7.5392e-06,\n                        2.5107e-03, -6.4283e-02],\n                      ...,\n                      [-5.8770e-02, -8.8358e-03,  5.6329e-02,  ..., -2.0985e-02,\n                        1.4974e-02,  4.4426e-02],\n                      [ 4.9404e-02,  1.1114e-02, -3.1259e-02,  ...,  2.5382e-02,\n                       -1.4124e-03,  4.3327e-02],\n                      [ 2.6831e-02, -1.5384e-02,  3.3149e-02,  ...,  1.4108e-02,\n                       -5.4706e-03, -8.6990e-02]])),\n             ('roberta.encoder.layer.1.attention.output.dense.bias',\n              tensor([-1.6781e-03, -4.1465e-03, -2.3815e-02,  6.1466e-03,  1.5220e-02,\n                      -1.5065e-02, -6.5730e-03,  1.3250e-02, -1.8807e-02, -2.1081e-02,\n                       2.1095e-02, -8.8856e-03,  9.4698e-03, -9.6946e-03,  2.0096e-02,\n                       2.0306e-03,  2.7786e-02, -1.4584e-02, -2.7957e-02, -1.0555e-03,\n                      -1.7028e-04, -1.8489e-02,  3.0050e-02, -5.1212e-03,  4.8776e-03,\n                       1.3427e-02, -1.0168e-02, -2.6977e-02,  3.5647e-03,  5.5335e-03,\n                      -4.8706e-03,  7.3427e-03,  1.3951e-02, -1.8242e-02,  1.3142e-02,\n                       1.3345e-02,  1.8367e-02, -1.4961e-02,  8.6685e-03, -1.9791e-02,\n                       1.7588e-02, -1.3609e-05, -2.6004e-03,  1.4975e-02,  4.3092e-03,\n                       2.6629e-03,  2.3395e-02, -9.0690e-03,  2.3934e-02, -1.8746e-02,\n                      -4.7539e-03, -1.4163e-02, -1.6630e-02, -1.0991e-02,  1.3049e-03,\n                      -2.1966e-02,  3.4211e-02,  1.0561e-02,  9.3237e-03, -2.1993e-02,\n                       1.4255e-02,  3.1048e-03, -1.1508e-02,  2.1163e-02,  9.6332e-03,\n                       2.1024e-03,  3.0031e-03, -1.4770e-02, -7.8604e-03,  1.9322e-02,\n                      -2.1496e-02, -2.0986e-02, -1.6970e-02, -1.0218e-02,  1.7155e-02,\n                       1.0325e-02,  1.4569e-02, -5.8840e-03, -3.8368e-02,  1.6241e-02,\n                       1.1679e-02, -1.1138e-02, -2.4716e-02, -1.3699e-02,  1.2367e-02,\n                       1.1612e-02,  3.9316e-03, -2.6999e-03,  3.7284e-03,  1.6817e-02,\n                      -6.1770e-03, -5.6192e-03, -2.0174e-02, -2.2334e-02, -1.4638e-02,\n                      -8.5873e-03,  8.0915e-04,  2.3045e-02, -2.0406e-02, -1.2939e-02])),\n             ('roberta.encoder.layer.1.attention.output.LayerNorm.weight',\n              tensor([1.0192, 0.9997, 0.9783, 1.0325, 1.0107, 1.0220, 1.0211, 0.9885, 0.9920,\n                      1.0132, 1.0227, 1.0188, 0.9920, 1.0366, 1.0389, 1.0074, 1.0099, 1.0086,\n                      1.0161, 1.0067, 1.0218, 1.0003, 1.0122, 1.0132, 0.9994, 1.0107, 1.0139,\n                      1.0145, 1.0358, 1.0363, 1.0038, 1.0198, 1.0000, 0.9655, 1.0128, 1.0014,\n                      1.0021, 0.9886, 1.0195, 1.0124, 0.9688, 1.0014, 1.0161, 1.0021, 0.9954,\n                      1.0160, 1.0154, 1.0177, 1.0087, 1.0310, 1.0166, 1.0234, 1.0025, 1.0207,\n                      1.0243, 1.0232, 1.0280, 1.0198, 1.0176, 1.0167, 1.0159, 1.0063, 1.0207,\n                      1.0157, 0.9852, 1.0269, 1.0313, 0.9919, 1.0099, 1.0017, 0.9981, 0.9977,\n                      0.9904, 0.9749, 1.0256, 0.9884, 1.0158, 0.9905, 1.0233, 1.0176, 0.9729,\n                      1.0029, 1.0104, 1.0015, 0.9893, 0.9915, 1.0248, 1.0161, 0.9918, 0.9835,\n                      1.0282, 1.0320, 1.0173, 1.0196, 0.9991, 1.0110, 0.9911, 1.0012, 1.0000,\n                      1.0022])),\n             ('roberta.encoder.layer.1.attention.output.LayerNorm.bias',\n              tensor([-3.5361e-03,  7.5236e-03, -2.6119e-02,  1.1773e-02,  8.0803e-03,\n                       3.2910e-03,  1.1582e-02,  1.9445e-02, -1.6578e-02, -1.6724e-02,\n                       1.2534e-02, -7.1841e-03,  7.5903e-03, -6.6373e-03,  1.9591e-02,\n                       7.0732e-03,  1.0605e-02, -4.7605e-03, -2.2922e-02,  4.7463e-03,\n                       6.9036e-03, -1.3404e-02,  3.0176e-02, -5.5014e-03, -4.9107e-03,\n                       3.5570e-03, -7.6661e-05, -1.5155e-02,  5.8485e-03, -6.4888e-03,\n                      -2.4276e-03, -1.3496e-02,  6.0928e-03, -1.8435e-02,  1.9568e-02,\n                       1.6962e-03,  1.3132e-03, -1.7646e-02,  5.7564e-03, -4.5453e-03,\n                       1.7042e-02, -2.6436e-03,  1.7726e-05,  1.2728e-02, -1.1959e-02,\n                      -3.5665e-03,  1.3566e-02, -6.6758e-03,  1.7118e-02, -2.3907e-02,\n                       4.7912e-03,  2.5253e-03, -9.2485e-03, -2.8574e-02, -1.1367e-03,\n                      -1.6417e-02,  2.0106e-02, -6.7235e-04,  1.8323e-02, -2.2885e-02,\n                       6.9383e-03,  1.5742e-02, -5.0200e-03,  3.4260e-03, -2.7047e-03,\n                      -1.0425e-03,  1.1483e-02, -1.9275e-02, -2.2185e-02,  9.2204e-03,\n                      -9.8391e-03, -5.2745e-03, -5.5743e-03, -3.7655e-03,  1.9374e-02,\n                       9.5934e-03,  6.0602e-03, -1.6305e-04, -2.6083e-02, -3.9797e-03,\n                      -8.7071e-04, -1.7858e-03, -7.0549e-03, -4.3620e-03,  1.1504e-02,\n                       4.5167e-04, -1.4646e-02,  7.7641e-03,  1.0336e-02, -5.6353e-03,\n                       4.5425e-03,  2.9341e-03, -6.0047e-03,  2.3833e-03,  3.3555e-04,\n                      -2.0084e-03,  3.8735e-03,  7.1691e-03, -1.3596e-02, -9.0449e-03])),\n             ('roberta.encoder.layer.1.intermediate.dense.weight',\n              tensor([[-0.0024, -0.0111, -0.0078,  ...,  0.0090,  0.0118, -0.0069],\n                      [-0.0034, -0.0053,  0.0279,  ...,  0.0140,  0.0234, -0.0017],\n                      [ 0.0246,  0.0017, -0.0126,  ..., -0.0084, -0.0280, -0.0003],\n                      ...,\n                      [-0.0120,  0.0123,  0.0101,  ...,  0.0285, -0.0222,  0.0033],\n                      [-0.0139,  0.0172, -0.0159,  ...,  0.0239,  0.0229, -0.0114],\n                      [ 0.0240, -0.0281, -0.0146,  ..., -0.0231,  0.0412,  0.0074]])),\n             ('roberta.encoder.layer.1.intermediate.dense.bias',\n              tensor([-0.0037, -0.0004,  0.0047,  ..., -0.0044, -0.0071, -0.0028])),\n             ('roberta.encoder.layer.1.output.dense.weight',\n              tensor([[ 0.0157,  0.0276, -0.0421,  ..., -0.0269,  0.0303, -0.0171],\n                      [-0.0062, -0.0102,  0.0417,  ..., -0.0111, -0.0101, -0.0040],\n                      [-0.0137, -0.0278,  0.0010,  ..., -0.0196,  0.0395, -0.0287],\n                      ...,\n                      [-0.0017,  0.0035,  0.0010,  ...,  0.0346, -0.0233,  0.0310],\n                      [ 0.0286, -0.0045,  0.0001,  ..., -0.0152, -0.0091, -0.0168],\n                      [-0.0154,  0.0171,  0.0443,  ...,  0.0170, -0.0227, -0.0239]])),\n             ('roberta.encoder.layer.1.output.dense.bias',\n              tensor([-0.0052,  0.0027, -0.0114,  0.0066,  0.0020, -0.0019,  0.0056,  0.0058,\n                      -0.0088, -0.0122,  0.0107, -0.0044,  0.0021, -0.0063,  0.0126, -0.0006,\n                       0.0061, -0.0076, -0.0130,  0.0045,  0.0027, -0.0132,  0.0109, -0.0045,\n                       0.0043,  0.0001,  0.0001, -0.0063,  0.0034,  0.0031,  0.0075,  0.0017,\n                       0.0020, -0.0084,  0.0044, -0.0029,  0.0027, -0.0089,  0.0031, -0.0059,\n                       0.0118, -0.0039,  0.0034,  0.0106, -0.0043,  0.0029,  0.0054, -0.0014,\n                       0.0033, -0.0175, -0.0039, -0.0007, -0.0076, -0.0099, -0.0024, -0.0110,\n                       0.0099, -0.0042,  0.0091, -0.0107,  0.0056,  0.0064, -0.0022,  0.0029,\n                       0.0007, -0.0002,  0.0072, -0.0085, -0.0113,  0.0070, -0.0049, -0.0026,\n                      -0.0007,  0.0028,  0.0124,  0.0113,  0.0022,  0.0007, -0.0131, -0.0014,\n                       0.0085,  0.0022, -0.0117, -0.0081,  0.0062,  0.0045, -0.0027,  0.0031,\n                       0.0041,  0.0030,  0.0048,  0.0007, -0.0056, -0.0012, -0.0062, -0.0008,\n                       0.0015,  0.0108, -0.0085, -0.0008])),\n             ('roberta.encoder.layer.1.output.LayerNorm.weight',\n              tensor([1.0186, 1.0366, 1.0060, 1.0417, 1.0344, 1.0322, 1.0362, 1.0100, 1.0024,\n                      1.0225, 1.0324, 1.0055, 1.0214, 1.0527, 1.0449, 1.0278, 1.0352, 1.0269,\n                      1.0323, 1.0252, 1.0514, 1.0249, 0.9941, 1.0258, 1.0073, 1.0132, 1.0285,\n                      1.0306, 1.0260, 1.0317, 1.0043, 1.0346, 1.0031, 0.9930, 1.0385, 1.0436,\n                      1.0265, 1.0116, 1.0191, 1.0130, 0.9945, 1.0229, 1.0225, 1.0002, 0.9968,\n                      1.0228, 1.0297, 1.0161, 1.0164, 1.0288, 1.0415, 1.0357, 1.0194, 1.0146,\n                      1.0170, 1.0215, 1.0438, 1.0242, 1.0426, 1.0157, 1.0374, 1.0274, 1.0399,\n                      1.0269, 1.0085, 1.0619, 1.0390, 1.0247, 1.0255, 1.0042, 1.0322, 1.0276,\n                      1.0238, 0.9978, 1.0240, 1.0092, 1.0316, 1.0172, 1.0233, 1.0267, 0.9882,\n                      1.0055, 1.0220, 1.0185, 1.0097, 1.0025, 1.0239, 1.0113, 1.0141, 1.0336,\n                      1.0382, 1.0331, 1.0498, 1.0294, 1.0169, 1.0141, 1.0295, 1.0206, 1.0309,\n                      1.0208])),\n             ('roberta.encoder.layer.1.output.LayerNorm.bias',\n              tensor([-3.7640e-03,  2.0203e-02, -2.4912e-02,  1.6612e-02,  8.8787e-03,\n                       7.7127e-03,  2.3277e-02, -1.3132e-02, -2.1231e-02, -1.6950e-02,\n                       1.9714e-02, -1.5297e-02,  2.0494e-02, -8.2337e-03,  2.0626e-02,\n                       1.4635e-02,  5.4299e-03, -5.4378e-03, -2.3380e-02,  6.0729e-03,\n                       1.3542e-02, -2.7373e-02,  1.7894e-02, -7.8626e-03, -1.1622e-03,\n                       1.0260e-02,  1.5188e-02, -1.2377e-02,  5.3035e-03,  3.8276e-03,\n                      -8.4160e-03, -2.0555e-02,  2.3098e-03, -3.1221e-02,  2.9480e-02,\n                      -2.8501e-05, -7.6839e-03, -2.8477e-03,  5.6192e-03, -1.4813e-03,\n                       1.2177e-02, -3.9723e-03,  1.4537e-03,  1.0447e-02, -8.6438e-03,\n                      -7.1086e-03,  1.8469e-03, -1.3839e-02,  2.6061e-05, -1.6036e-02,\n                      -9.5216e-04,  1.0814e-02, -8.8407e-03, -2.8624e-02, -5.0061e-03,\n                      -1.2008e-02,  1.6134e-02,  8.8649e-03,  4.1679e-03, -2.2067e-02,\n                       5.8036e-03,  2.0191e-02, -2.3867e-03, -8.2090e-03, -7.7321e-03,\n                       3.7511e-03,  1.3100e-02, -1.8514e-02, -1.3285e-02,  1.1974e-02,\n                       1.0183e-03, -5.9342e-04,  1.6343e-02,  2.0484e-02,  2.2393e-02,\n                       1.5758e-02,  6.1255e-03, -7.1265e-03, -1.2931e-02, -1.4674e-02,\n                       1.8095e-02, -1.0195e-02, -5.4356e-03, -1.1562e-02,  1.4670e-02,\n                       3.9327e-03, -2.5093e-02,  6.0151e-03,  9.1477e-03, -1.0040e-02,\n                      -3.7339e-03, -6.7572e-03, -5.3286e-03,  1.3300e-02,  1.5258e-03,\n                      -2.8379e-03,  5.7358e-03, -9.0856e-04, -2.0354e-02, -1.2318e-02])),\n             ('roberta.encoder.layer.2.attention.self.query.weight',\n              tensor([[ 0.0020,  0.0410,  0.0592,  ..., -0.0304,  0.0165, -0.0064],\n                      [-0.0783,  0.0043, -0.0662,  ..., -0.0319,  0.0021, -0.0586],\n                      [-0.0165, -0.0046,  0.0632,  ..., -0.0095, -0.0478, -0.0488],\n                      ...,\n                      [-0.0710,  0.0154,  0.0304,  ...,  0.0086,  0.0261, -0.0204],\n                      [-0.0350, -0.0064,  0.0289,  ...,  0.0083, -0.0101, -0.0107],\n                      [ 0.0094, -0.0404,  0.0530,  ...,  0.0400,  0.0055, -0.0198]])),\n             ('roberta.encoder.layer.2.attention.self.query.bias',\n              tensor([-0.0461,  0.0637, -0.0258,  0.0373,  0.0875, -0.0009,  0.0023,  0.0453,\n                       0.0281, -0.0384, -0.0366, -0.0927,  0.0018, -0.0071, -0.0432, -0.0199,\n                       0.0140,  0.0026, -0.0315, -0.0016, -0.0403, -0.0096,  0.0172,  0.0519,\n                      -0.0320, -0.0151, -0.0343,  0.0388,  0.0505,  0.0473,  0.0357,  0.0704,\n                       0.0537,  0.0060,  0.0282,  0.0149,  0.0551,  0.0045,  0.0482, -0.0108,\n                       0.0345, -0.0103,  0.0223, -0.0479, -0.0478, -0.0041, -0.0211,  0.0070,\n                       0.0531, -0.0043, -0.0334, -0.0191,  0.0433,  0.0576, -0.0311, -0.0314,\n                      -0.0074, -0.0310,  0.0267, -0.0044, -0.0731,  0.0298, -0.0379,  0.0718,\n                       0.0163, -0.0307,  0.0732,  0.0202,  0.0664,  0.0944,  0.0592,  0.0491,\n                      -0.0204, -0.0605, -0.0682,  0.0345,  0.0198,  0.0504, -0.0701, -0.0541,\n                       0.0470,  0.0538,  0.0078,  0.0145,  0.0541,  0.0533, -0.0047, -0.0445,\n                       0.0164, -0.0747, -0.0492,  0.0329,  0.0008,  0.0451, -0.0042,  0.0506,\n                      -0.0435, -0.0072, -0.0352, -0.0508])),\n             ('roberta.encoder.layer.2.attention.self.key.weight',\n              tensor([[ 0.0338, -0.0021,  0.0247,  ..., -0.0031, -0.0143, -0.0404],\n                      [-0.0215,  0.0008, -0.0221,  ...,  0.0100, -0.0100, -0.0097],\n                      [ 0.0605,  0.0346, -0.0103,  ..., -0.0543,  0.0098,  0.0096],\n                      ...,\n                      [-0.0283,  0.0074, -0.0080,  ..., -0.0320, -0.0427, -0.0230],\n                      [-0.0366,  0.0075,  0.0032,  ..., -0.0245,  0.0022, -0.0330],\n                      [-0.0382,  0.0148,  0.0110,  ..., -0.0403,  0.0322, -0.0271]])),\n             ('roberta.encoder.layer.2.attention.self.key.bias',\n              tensor([-3.9196e-06,  1.0065e-04, -3.9005e-05, -2.3954e-05,  1.7702e-05,\n                       2.7440e-05, -3.4327e-05,  3.0207e-05,  5.3513e-06, -4.0645e-05,\n                      -6.1460e-05, -1.0772e-04,  2.8190e-05, -2.4164e-06,  1.1370e-05,\n                       3.9787e-05,  7.4689e-06,  1.6030e-05, -2.7950e-05, -1.2069e-05,\n                      -4.8605e-05,  3.4018e-05, -2.9434e-05,  4.7233e-06, -1.0694e-05,\n                       3.3556e-05, -3.1440e-05, -1.2108e-05,  4.3568e-06, -1.5100e-05,\n                      -6.4055e-06,  2.7699e-06,  2.4583e-05,  1.2405e-05, -5.2667e-06,\n                       1.3214e-06,  5.1922e-05, -5.2410e-06,  1.5270e-05, -5.3970e-05,\n                       1.1880e-05, -4.4113e-05,  1.3180e-05, -1.5979e-05, -4.0247e-05,\n                      -3.2077e-05, -1.3218e-05, -1.0811e-05,  7.5211e-05,  5.9642e-05,\n                      -8.8037e-06, -1.4744e-05, -1.0773e-05,  6.2702e-05,  2.7771e-05,\n                      -7.5549e-05, -8.7331e-05, -1.0187e-04, -9.1142e-05, -6.4615e-05,\n                      -6.2652e-05,  5.2394e-05,  4.3279e-08,  3.2969e-05,  1.6204e-06,\n                      -1.0197e-05, -7.7817e-06, -3.8620e-05,  3.7634e-05,  5.6066e-05,\n                       7.4371e-05,  4.0937e-06,  4.4497e-05, -3.9623e-05, -6.5431e-05,\n                       5.2867e-05,  2.9138e-05,  1.2547e-05, -7.2457e-05, -2.3193e-05,\n                       6.0278e-05, -6.4215e-05,  2.9913e-05,  2.3333e-05, -3.9032e-05,\n                      -5.3611e-05,  3.3459e-05,  6.2999e-05,  6.5221e-05, -1.0427e-05,\n                      -1.9507e-05,  1.8123e-05, -7.2417e-05, -3.5082e-05,  1.6155e-05,\n                      -1.9562e-06, -4.0850e-05, -5.6171e-06,  3.8116e-05, -5.8716e-05])),\n             ('roberta.encoder.layer.2.attention.self.value.weight',\n              tensor([[-0.0170, -0.0028,  0.0072,  ...,  0.0346,  0.0012,  0.0262],\n                      [-0.0186,  0.0287, -0.0395,  ...,  0.0026,  0.0073, -0.0011],\n                      [-0.0206, -0.0104, -0.0020,  ..., -0.0159,  0.0166,  0.0250],\n                      ...,\n                      [-0.0902, -0.0408,  0.0065,  ...,  0.0511, -0.0109, -0.0637],\n                      [ 0.0353, -0.0212,  0.0143,  ...,  0.0437, -0.0195,  0.0024],\n                      [-0.0425, -0.0645,  0.0472,  ...,  0.0540, -0.0059, -0.0655]])),\n             ('roberta.encoder.layer.2.attention.self.value.bias',\n              tensor([ 4.8730e-03, -4.8050e-03,  8.0347e-04,  3.6946e-03, -6.8472e-05,\n                       1.5258e-03, -2.2378e-03, -6.3496e-03,  5.2546e-03, -6.2014e-03,\n                      -9.6174e-04,  4.7714e-03, -6.3759e-03, -2.0091e-03,  2.3006e-03,\n                       3.8615e-03,  1.1243e-03,  6.6728e-04, -3.4427e-03, -3.1238e-04,\n                      -7.0787e-04, -7.4494e-03,  8.2607e-03, -1.2512e-02,  1.3473e-03,\n                       9.4945e-03,  6.0401e-03, -3.8400e-03,  3.0190e-03, -7.2026e-03,\n                      -2.5425e-03,  2.4095e-03, -6.0655e-04, -7.8975e-03,  6.5787e-03,\n                      -1.0376e-02,  6.9127e-03,  1.3659e-02, -8.1402e-03, -1.4370e-02,\n                       1.8965e-02,  3.1917e-03,  1.8954e-02, -4.0675e-03, -2.2777e-02,\n                       1.9361e-02,  2.8598e-04,  8.7410e-03,  1.9504e-02,  3.1133e-03,\n                      -9.6288e-03,  9.4364e-03,  1.4259e-02,  7.8494e-03, -5.8606e-03,\n                      -2.1626e-02, -7.7729e-03, -5.2331e-03,  2.6996e-03,  1.4855e-02,\n                      -4.4104e-03,  1.6517e-02,  1.1195e-02,  7.2442e-03, -1.8579e-02,\n                       3.4625e-03, -1.5939e-02, -1.3388e-02, -1.2630e-02, -8.1646e-03,\n                       1.8743e-02, -5.8170e-03, -1.8361e-03, -1.2252e-02, -1.1687e-02,\n                       1.4680e-02,  1.6007e-02,  4.9422e-03, -2.2301e-02, -7.1446e-03,\n                      -9.3014e-03,  6.3321e-03, -1.4329e-02, -2.2700e-02, -6.9148e-04,\n                      -8.2362e-03,  1.1210e-02,  6.2690e-03,  2.1309e-04, -7.3772e-03,\n                       1.3663e-02,  9.4133e-03, -1.3287e-02, -8.3947e-03, -1.3868e-02,\n                      -2.2345e-02, -1.2372e-02,  2.2702e-02, -1.2882e-03,  7.9575e-03])),\n             ('roberta.encoder.layer.2.attention.output.dense.weight',\n              tensor([[ 0.0288, -0.0097, -0.0193,  ...,  0.0037,  0.0319,  0.0205],\n                      [-0.0255,  0.0260, -0.0131,  ...,  0.0410,  0.0136,  0.0818],\n                      [ 0.0202,  0.0352,  0.0286,  ..., -0.0183, -0.0220, -0.0104],\n                      ...,\n                      [ 0.0096, -0.0200,  0.0588,  ..., -0.0405,  0.0256,  0.0526],\n                      [ 0.0192, -0.0002,  0.0453,  ...,  0.0055, -0.0247, -0.0212],\n                      [-0.0030, -0.0071,  0.0638,  ..., -0.0069, -0.0202, -0.0173]])),\n             ('roberta.encoder.layer.2.attention.output.dense.bias',\n              tensor([-6.3454e-05,  6.2528e-03, -3.9998e-03,  7.3085e-03,  9.6874e-03,\n                      -9.1754e-03,  7.7628e-03,  8.9178e-03, -1.6775e-03, -3.5092e-03,\n                       1.9891e-02, -1.3078e-02,  7.6030e-03, -6.4591e-03,  6.2832e-03,\n                      -1.1259e-02,  5.9770e-03,  2.6028e-03, -1.1307e-02,  3.5266e-03,\n                       1.6155e-02, -1.0244e-02,  1.2592e-02,  2.4041e-03, -2.8447e-03,\n                       2.6459e-03, -5.1720e-04, -7.6602e-03,  3.1389e-03,  1.5532e-02,\n                      -1.5054e-02, -3.7514e-03,  2.6643e-03, -1.4646e-02,  1.3127e-02,\n                       4.8505e-04,  7.6244e-03,  6.1739e-03, -2.2998e-03, -2.0347e-02,\n                      -4.3253e-03, -7.2914e-05, -4.3999e-03,  1.4634e-02, -3.8967e-03,\n                       4.1570e-03,  2.3852e-03, -1.8908e-02,  3.3847e-03,  4.4258e-03,\n                      -1.3725e-02,  3.4453e-04, -1.2382e-02, -5.6247e-03,  1.5904e-03,\n                      -3.2004e-03,  7.3735e-03,  4.0835e-03, -2.9686e-03, -1.3446e-02,\n                       1.5061e-03,  9.7221e-03,  7.3558e-03, -3.2041e-03, -3.6337e-03,\n                       7.8744e-04, -3.4682e-03, -9.8559e-03,  1.0139e-02,  4.6675e-03,\n                      -3.7881e-04, -5.6857e-03,  9.1218e-03,  1.6146e-03,  1.0209e-02,\n                      -4.2941e-03,  3.6619e-04, -7.9987e-03, -2.9430e-03,  4.9127e-03,\n                       3.6901e-03, -2.4000e-02, -1.2627e-02, -8.4813e-04,  5.2479e-03,\n                       1.5138e-02, -9.1383e-03,  6.0521e-03, -5.3172e-03, -7.5606e-05,\n                      -1.4791e-02, -8.0765e-04,  1.7183e-03, -7.3660e-03, -3.1525e-04,\n                      -1.0842e-02,  9.5758e-03,  1.7579e-02, -6.2890e-03, -8.9709e-03])),\n             ('roberta.encoder.layer.2.attention.output.LayerNorm.weight',\n              tensor([1.0056, 1.0282, 0.9885, 1.0273, 1.0187, 1.0052, 1.0253, 0.9927, 0.9996,\n                      1.0155, 1.0208, 1.0208, 1.0206, 1.0346, 1.0321, 1.0028, 1.0285, 1.0135,\n                      1.0227, 1.0183, 1.0305, 1.0189, 0.9746, 1.0241, 1.0062, 1.0100, 1.0210,\n                      1.0251, 1.0357, 1.0163, 1.0213, 1.0304, 1.0075, 0.9935, 1.0169, 1.0051,\n                      1.0038, 0.9904, 1.0208, 1.0030, 0.9988, 1.0198, 1.0136, 1.0042, 1.0135,\n                      1.0191, 1.0177, 0.9957, 0.9977, 0.9918, 1.0257, 1.0184, 1.0134, 1.0031,\n                      1.0150, 1.0141, 1.0172, 1.0149, 1.0143, 1.0132, 1.0200, 1.0210, 1.0270,\n                      1.0256, 1.0036, 1.0302, 1.0301, 1.0058, 1.0058, 0.9861, 0.9977, 1.0162,\n                      1.0070, 0.9909, 1.0206, 1.0003, 1.0269, 1.0023, 1.0122, 1.0134, 0.9972,\n                      0.9919, 1.0040, 1.0111, 1.0088, 0.9881, 1.0242, 1.0210, 1.0077, 1.0059,\n                      1.0079, 1.0176, 1.0151, 1.0236, 1.0177, 1.0092, 1.0049, 1.0038, 1.0161,\n                      1.0054])),\n             ('roberta.encoder.layer.2.attention.output.LayerNorm.bias',\n              tensor([ 1.2402e-03,  6.9728e-03, -1.9362e-02,  1.7946e-02,  7.5252e-03,\n                      -7.9970e-05,  1.5594e-02, -5.9242e-03, -1.3339e-02, -1.3440e-02,\n                       1.8466e-02, -1.2126e-02,  9.9595e-03, -5.8538e-03,  5.7798e-03,\n                       2.2512e-03,  9.3415e-03, -2.4856e-04, -1.5669e-02,  3.7194e-03,\n                       9.1133e-03, -1.8674e-02,  1.5791e-02, -4.2727e-03, -5.2751e-03,\n                       1.1129e-02,  1.0733e-02, -6.7858e-03, -2.6356e-04,  8.2245e-04,\n                      -1.2098e-02, -7.1264e-03, -1.9942e-04, -1.9477e-02,  2.0968e-02,\n                       8.8021e-03, -6.4688e-03, -2.8915e-03,  3.1236e-03, -7.6668e-03,\n                       1.2325e-02,  2.1946e-03,  9.9547e-04,  6.3592e-03, -3.9047e-03,\n                      -2.5053e-03, -1.0183e-02, -1.1083e-02,  6.1265e-04, -6.7830e-03,\n                      -3.7661e-03,  6.3901e-03, -7.9974e-03, -1.9251e-02, -2.2978e-03,\n                      -1.1290e-02,  6.3231e-03,  3.1110e-03, -1.0193e-03, -1.5275e-02,\n                       4.3605e-03,  8.9024e-03, -3.7140e-03, -1.0739e-02, -7.1454e-03,\n                       9.7939e-03,  1.1925e-02, -1.2708e-02,  7.4384e-03,  8.9747e-03,\n                      -1.4299e-03,  5.1260e-03,  9.8233e-03,  1.0605e-02,  1.4453e-02,\n                       9.5261e-03,  9.1255e-03,  1.2612e-03, -7.6453e-03, -5.3957e-03,\n                       1.5234e-02, -1.6483e-02, -1.6439e-02, -4.2610e-04,  8.4102e-03,\n                       1.6796e-02, -1.7858e-02,  9.4480e-03, -4.6138e-03, -1.4194e-03,\n                      -7.0485e-03, -2.6942e-03, -7.5302e-03,  1.0244e-02,  1.1419e-03,\n                      -5.3144e-03,  2.4510e-04,  2.9299e-03, -1.3568e-02, -5.7709e-03])),\n             ('roberta.encoder.layer.2.intermediate.dense.weight',\n              tensor([[ 7.4478e-05,  3.3362e-02, -2.0945e-02,  ...,  8.1674e-03,\n                       -4.7929e-02, -1.2839e-02],\n                      [ 3.7566e-03, -3.2755e-02,  1.6813e-02,  ..., -1.4570e-03,\n                        2.2406e-02, -9.6167e-03],\n                      [-4.1722e-03,  3.3243e-02,  1.4930e-02,  ...,  1.7164e-02,\n                        3.1481e-02, -1.5414e-02],\n                      ...,\n                      [-8.9470e-03, -1.0001e-02, -5.8700e-03,  ...,  2.2628e-02,\n                        2.2963e-02, -5.6428e-03],\n                      [ 7.9671e-03,  2.0259e-02,  2.3981e-02,  ...,  1.0924e-02,\n                       -1.8977e-04,  2.1312e-03],\n                      [ 3.5712e-02, -8.2462e-03, -2.2629e-02,  ..., -1.0658e-02,\n                       -9.3699e-03,  9.7953e-03]])),\n             ('roberta.encoder.layer.2.intermediate.dense.bias',\n              tensor([-0.0041, -0.0015, -0.0075,  ...,  0.0003, -0.0053,  0.0106])),\n             ('roberta.encoder.layer.2.output.dense.weight',\n              tensor([[ 6.0063e-04,  4.4051e-03,  1.0529e-02,  ...,  3.0880e-02,\n                       -2.0029e-02, -2.3162e-02],\n                      [ 3.5493e-03,  8.4554e-03,  3.2800e-02,  ..., -1.2708e-02,\n                       -8.0186e-03, -3.6717e-02],\n                      [ 1.5385e-02,  1.0004e-02,  9.4299e-03,  ...,  3.7214e-02,\n                       -4.8199e-03,  8.7378e-03],\n                      ...,\n                      [ 1.7419e-03,  1.7147e-03, -9.5323e-05,  ..., -1.9606e-02,\n                       -2.3929e-02,  1.8368e-02],\n                      [ 2.3439e-02, -7.6221e-03, -1.0055e-02,  ..., -1.2982e-02,\n                        4.1578e-02,  4.1633e-03],\n                      [ 1.2584e-02, -1.3143e-02,  6.7868e-03,  ..., -1.6291e-02,\n                        2.2709e-02,  3.5486e-02]])),\n             ('roberta.encoder.layer.2.output.dense.bias',\n              tensor([-0.0061,  0.0026, -0.0101,  0.0094,  0.0054,  0.0035,  0.0078, -0.0107,\n                      -0.0071, -0.0096,  0.0117, -0.0050,  0.0032, -0.0050,  0.0010,  0.0063,\n                       0.0018, -0.0014, -0.0073,  0.0018,  0.0061, -0.0148,  0.0025, -0.0069,\n                       0.0016, -0.0018,  0.0078, -0.0034,  0.0009,  0.0018,  0.0004,  0.0001,\n                       0.0025, -0.0045,  0.0121,  0.0058, -0.0011, -0.0070,  0.0037, -0.0021,\n                       0.0093,  0.0013,  0.0033,  0.0042, -0.0048, -0.0023, -0.0055, -0.0100,\n                      -0.0007, -0.0084,  0.0003,  0.0042, -0.0028, -0.0098, -0.0026, -0.0090,\n                       0.0036,  0.0005,  0.0022, -0.0100,  0.0014,  0.0052, -0.0011, -0.0058,\n                      -0.0004,  0.0098,  0.0083, -0.0060, -0.0015,  0.0088, -0.0004,  0.0030,\n                       0.0037,  0.0121,  0.0132,  0.0073,  0.0047,  0.0009, -0.0049, -0.0072,\n                       0.0122, -0.0030, -0.0112, -0.0061,  0.0045,  0.0026, -0.0109,  0.0040,\n                       0.0023, -0.0010, -0.0044,  0.0002, -0.0039,  0.0065, -0.0013, -0.0032,\n                      -0.0002, -0.0007, -0.0047,  0.0001])),\n             ('roberta.encoder.layer.2.output.LayerNorm.weight',\n              tensor([0.9951, 1.0022, 0.9867, 1.0083, 0.9898, 0.9868, 1.0105, 0.9842, 0.9791,\n                      0.9895, 0.9951, 1.0022, 1.0041, 1.0103, 1.0018, 0.9917, 1.0035, 0.9931,\n                      0.9969, 0.9893, 1.0070, 0.9958, 0.9741, 1.0037, 0.9910, 0.9887, 1.0008,\n                      1.0066, 0.9976, 0.9974, 0.9896, 1.0057, 0.9967, 0.9857, 0.9937, 0.9890,\n                      0.9908, 0.9884, 0.9969, 0.9901, 0.9904, 1.0027, 0.9835, 0.9884, 0.9937,\n                      1.0019, 1.0052, 0.9908, 0.9953, 0.9905, 1.0121, 0.9964, 0.9945, 0.9950,\n                      0.9942, 0.9927, 1.0022, 0.9908, 0.9876, 0.9986, 1.0019, 1.0004, 1.0018,\n                      1.0004, 0.9902, 0.9959, 1.0091, 0.9813, 0.9848, 0.9793, 0.9739, 0.9979,\n                      0.9877, 0.9832, 1.0070, 0.9869, 1.0003, 0.9896, 0.9952, 0.9921, 0.9890,\n                      0.9791, 0.9917, 0.9806, 0.9999, 0.9794, 1.0034, 0.9958, 0.9968, 0.9983,\n                      0.9910, 0.9999, 0.9948, 1.0110, 0.9992, 0.9971, 0.9883, 0.9843, 1.0028,\n                      0.9776])),\n             ('roberta.encoder.layer.2.output.LayerNorm.bias',\n              tensor([ 0.0002,  0.0099, -0.0228,  0.0190,  0.0112,  0.0079,  0.0194, -0.0127,\n                      -0.0081, -0.0166,  0.0166, -0.0055,  0.0090, -0.0044,  0.0020,  0.0059,\n                       0.0078, -0.0009, -0.0179,  0.0026,  0.0075, -0.0142,  0.0101, -0.0052,\n                      -0.0024,  0.0032,  0.0107, -0.0106,  0.0019, -0.0044, -0.0094, -0.0049,\n                       0.0030, -0.0099,  0.0208,  0.0111, -0.0074, -0.0079,  0.0059, -0.0024,\n                       0.0162,  0.0044,  0.0020,  0.0080, -0.0005, -0.0073, -0.0072, -0.0131,\n                       0.0031, -0.0128, -0.0013,  0.0099, -0.0089, -0.0193, -0.0037, -0.0141,\n                       0.0010,  0.0028,  0.0061, -0.0211,  0.0051,  0.0106, -0.0070, -0.0112,\n                       0.0014,  0.0103,  0.0162, -0.0092,  0.0025,  0.0133, -0.0073,  0.0081,\n                       0.0080,  0.0162,  0.0228,  0.0109,  0.0094,  0.0049, -0.0061, -0.0108,\n                       0.0192, -0.0111, -0.0224, -0.0041,  0.0090,  0.0123, -0.0202,  0.0119,\n                      -0.0012, -0.0011, -0.0042, -0.0031, -0.0093,  0.0122,  0.0005, -0.0037,\n                      -0.0030, -0.0025, -0.0150, -0.0002])),\n             ('lm_head.bias',\n              tensor([-0.5477,  0.0530, -0.3216, -0.6434,  0.0419, -0.5571, -0.0218, -0.2882,\n                      -0.0132, -0.0471, -0.3007, -0.1516, -0.0528,  0.0206, -0.1400, -0.1297,\n                      -0.0024, -0.0197,  0.0652, -0.0446, -0.0811, -0.1966, -0.0434, -0.5554,\n                      -0.2455, -0.0462, -0.0463, -0.3564, -0.1547,  0.0007,  0.0382, -0.1109,\n                      -0.0760, -0.0287, -0.0209, -0.0523,  0.0430, -0.0467, -0.0049, -0.0742,\n                      -0.0263, -0.0900,  0.0384,  0.0624, -0.0127, -0.0784,  0.0506,  0.0749,\n                      -0.0586, -0.0854, -0.0178, -0.0651, -0.0260, -0.1411,  0.0013, -0.0171,\n                      -0.1017,  0.0341,  0.0604, -0.0488, -0.0132,  0.0647,  0.0258, -0.0150,\n                       0.0079,  0.0037,  0.0026, -0.0299, -0.0546,  0.0521])),\n             ('lm_head.dense.weight',\n              tensor([[ 0.0512,  0.0322, -0.0127,  ..., -0.0023, -0.0343,  0.0095],\n                      [ 0.0141,  0.0466, -0.0141,  ...,  0.0146, -0.0220,  0.0101],\n                      [-0.0198, -0.0393,  0.0031,  ...,  0.0135, -0.0216,  0.0459],\n                      ...,\n                      [ 0.0351,  0.0010, -0.0078,  ...,  0.0073, -0.0027, -0.0013],\n                      [-0.0169,  0.0086,  0.0080,  ...,  0.0179,  0.0649, -0.0005],\n                      [ 0.0257,  0.0042, -0.0123,  ...,  0.0151, -0.0185,  0.0040]])),\n             ('lm_head.dense.bias',\n              tensor([ 8.8004e-03, -5.4605e-03, -1.0532e-02,  9.9841e-03,  8.4446e-03,\n                      -8.4375e-03, -2.0013e-03,  1.7698e-02,  1.2729e-02,  1.1873e-02,\n                       1.0757e-02, -3.7063e-03,  1.2471e-03, -1.2520e-02, -9.9912e-05,\n                      -1.3106e-02,  6.1868e-03,  1.4848e-02, -1.0776e-02,  6.3205e-03,\n                       1.4112e-02,  1.4225e-02,  9.6164e-03,  6.6101e-03, -1.2305e-02,\n                       1.1856e-02,  1.1039e-02,  1.1464e-02,  9.6692e-04, -6.3035e-03,\n                      -1.3024e-02,  7.3068e-03, -1.4019e-02, -7.7028e-03,  2.1561e-02,\n                      -1.2400e-02, -1.5209e-02, -6.5640e-04, -2.7376e-03, -1.7336e-02,\n                      -1.4278e-02, -5.3598e-03,  1.9878e-04, -1.1410e-02, -1.4130e-03,\n                       1.6102e-02,  6.4334e-03,  6.1090e-03,  1.5589e-02,  1.3429e-02,\n                      -1.3482e-02,  1.6948e-03,  8.3747e-03, -9.3688e-03,  6.4948e-03,\n                      -1.6831e-03, -6.3882e-03,  6.4054e-03,  7.2919e-03, -2.9182e-03,\n                       4.7723e-03,  9.4289e-03,  1.2191e-02, -1.4285e-02, -1.5980e-02,\n                       9.0776e-03,  2.5788e-03, -4.0189e-03,  3.8576e-03, -1.5177e-02,\n                       3.6036e-03,  1.2497e-02, -7.9750e-03, -2.0795e-02, -5.8137e-06,\n                      -1.9184e-02,  9.9247e-03,  8.7052e-03,  1.7311e-02,  1.7277e-02,\n                      -9.1179e-03, -1.3809e-02,  3.3019e-03,  2.0572e-02,  1.8903e-02,\n                       1.3530e-02,  1.0833e-02,  1.0856e-02, -9.2656e-03,  2.2726e-03,\n                      -1.1165e-02, -1.2486e-03,  1.3404e-02, -2.5691e-03,  9.7016e-03,\n                      -2.4124e-03, -3.7871e-03, -3.1578e-03, -2.8576e-03,  4.5787e-03])),\n             ('lm_head.layer_norm.weight',\n              tensor([1.3415, 1.2692, 1.3067, 1.3630, 1.4129, 1.2984, 1.3133, 1.2218, 1.2493,\n                      1.3050, 1.2394, 1.2670, 1.3055, 1.2997, 1.3724, 1.3327, 1.3514, 1.2899,\n                      1.3077, 1.3275, 1.3462, 1.3463, 1.3051, 1.3219, 1.2535, 1.2976, 1.3756,\n                      1.3024, 1.3244, 1.3184, 1.3075, 1.3221, 1.3015, 1.2692, 1.2999, 1.2613,\n                      1.3476, 1.3553, 1.3492, 1.2658, 1.3370, 1.3072, 1.3555, 1.3442, 1.2965,\n                      1.2908, 1.2989, 1.2761, 1.2990, 1.2815, 1.3522, 1.3059, 1.3409, 1.3537,\n                      1.3210, 1.2855, 1.3301, 1.3115, 1.3116, 1.2414, 1.3115, 1.2929, 1.2578,\n                      1.2977, 1.3119, 1.3505, 1.2681, 1.3020, 1.3623, 1.2537, 1.3456, 1.3065,\n                      1.3106, 1.3577, 1.3539, 1.3703, 1.3488, 1.2897, 1.2997, 1.3340, 1.2904,\n                      1.3087, 1.3340, 1.2807, 1.3369, 1.2666, 1.2689, 1.3575, 1.2867, 1.3221,\n                      1.2755, 1.3352, 1.2888, 1.2563, 1.3151, 1.2575, 1.3213, 1.3382, 1.3465,\n                      1.2914])),\n             ('lm_head.layer_norm.bias',\n              tensor([ 0.1240, -0.0407, -0.1995,  0.2064,  0.1234, -0.1248, -0.0569,  0.1874,\n                       0.1137,  0.0868,  0.0896, -0.1359, -0.2327, -0.1373, -0.1807, -0.2199,\n                       0.0915,  0.1844, -0.1075,  0.1678,  0.1825,  0.0370,  0.2330,  0.0436,\n                      -0.1528,  0.0843,  0.1471,  0.1620, -0.1029, -0.1208, -0.1347,  0.0888,\n                      -0.0956, -0.2163,  0.1097, -0.2234, -0.1667, -0.1730, -0.0953, -0.2179,\n                      -0.1481, -0.1826,  0.1584, -0.0858, -0.1568,  0.1253,  0.1649,  0.0567,\n                       0.1696,  0.0598, -0.1605,  0.1452,  0.1624, -0.1173,  0.0558, -0.0569,\n                      -0.0723,  0.0363,  0.1433, -0.0795,  0.0548,  0.1645,  0.1687, -0.1205,\n                      -0.1104,  0.0427, -0.0874, -0.1732,  0.1023, -0.1472,  0.2121,  0.1926,\n                      -0.1253, -0.2600, -0.1181, -0.2098,  0.1071,  0.1057,  0.1289,  0.2041,\n                      -0.1920, -0.2568,  0.1121,  0.1516,  0.1435,  0.1784,  0.0558,  0.1270,\n                      -0.1682, -0.1617, -0.1096, -0.0938,  0.1849, -0.0670,  0.1365, -0.1420,\n                      -0.1622,  0.0444, -0.1865,  0.1496])),\n             ('lm_head.decoder.weight',\n              tensor([[-0.0508,  0.0042,  0.1040,  ..., -0.0196,  0.0712, -0.0308],\n                      [ 0.1025, -0.0581, -0.0144,  ..., -0.0967, -0.0408,  0.0322],\n                      [-0.1701, -0.0950,  0.2806,  ..., -0.1971,  0.1261, -0.1216],\n                      ...,\n                      [ 0.0093,  0.0255,  0.0605,  ...,  0.0110,  0.0079, -0.0444],\n                      [ 0.0033,  0.0424,  0.0091,  ...,  0.0214,  0.0552, -0.0003],\n                      [ 0.0682,  0.0908,  0.0248,  ..., -0.0159,  0.0089,  0.0124]])),\n             ('lm_head.decoder.bias',\n              tensor([-0.5477,  0.0530, -0.3216, -0.6434,  0.0419, -0.5571, -0.0218, -0.2882,\n                      -0.0132, -0.0471, -0.3007, -0.1516, -0.0528,  0.0206, -0.1400, -0.1297,\n                      -0.0024, -0.0197,  0.0652, -0.0446, -0.0811, -0.1966, -0.0434, -0.5554,\n                      -0.2455, -0.0462, -0.0463, -0.3564, -0.1547,  0.0007,  0.0382, -0.1109,\n                      -0.0760, -0.0287, -0.0209, -0.0523,  0.0430, -0.0467, -0.0049, -0.0742,\n                      -0.0263, -0.0900,  0.0384,  0.0624, -0.0127, -0.0784,  0.0506,  0.0749,\n                      -0.0586, -0.0854, -0.0178, -0.0651, -0.0260, -0.1411,  0.0013, -0.0171,\n                      -0.1017,  0.0341,  0.0604, -0.0488, -0.0132,  0.0647,  0.0258, -0.0150,\n                       0.0079,  0.0037,  0.0026, -0.0299, -0.0546,  0.0521]))])"
     },
     "execution_count": 211,
     "metadata": {},
     "output_type": "execute_result"
    }
   ],
   "source": [
    "denoiser.state_dict()"
   ],
   "metadata": {
    "collapsed": false,
    "ExecuteTime": {
     "end_time": "2023-08-25T20:21:54.915338Z",
     "start_time": "2023-08-25T20:21:54.880177Z"
    }
   }
  },
  {
   "cell_type": "code",
   "execution_count": null,
   "outputs": [],
   "source": [],
   "metadata": {
    "collapsed": false
   }
  }
 ],
 "metadata": {
  "kernelspec": {
   "display_name": "Python 3",
   "language": "python",
   "name": "python3"
  },
  "language_info": {
   "codemirror_mode": {
    "name": "ipython",
    "version": 2
   },
   "file_extension": ".py",
   "mimetype": "text/x-python",
   "name": "python",
   "nbconvert_exporter": "python",
   "pygments_lexer": "ipython2",
   "version": "2.7.6"
  }
 },
 "nbformat": 4,
 "nbformat_minor": 0
}
